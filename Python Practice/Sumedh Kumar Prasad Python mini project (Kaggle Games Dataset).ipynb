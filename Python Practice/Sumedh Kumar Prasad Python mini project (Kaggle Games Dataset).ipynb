{
 "cells": [
  {
   "cell_type": "markdown",
   "metadata": {},
   "source": [
    "# Sumedh Kumar Prasad Mini project (Data science using Python)\n",
    "\n",
    "\n",
    "## Part - 1\n",
    "We shall now test your skills in using Pandas package. We will be using the [games Dataset](https://www.kaggle.com/gutsyrobot/games-data/data) from Kaggle. \n",
    "\n",
    "Answer each question asked below wrt the games dataset."
   ]
  },
  {
   "cell_type": "markdown",
   "metadata": {},
   "source": [
    "** Import pandas as pd.**"
   ]
  },
  {
   "cell_type": "code",
   "execution_count": 2,
   "metadata": {},
   "outputs": [],
   "source": [
    "import numpy as np\n",
    "import pandas as pd"
   ]
  },
  {
   "cell_type": "markdown",
   "metadata": {},
   "source": [
    "** Read games.csv as a dataframe called games.**"
   ]
  },
  {
   "cell_type": "code",
   "execution_count": 3,
   "metadata": {},
   "outputs": [],
   "source": [
    "df = pd.read_csv('game1.csv')"
   ]
  },
  {
   "cell_type": "markdown",
   "metadata": {},
   "source": [
    "** Check the head of the DataFrame. **"
   ]
  },
  {
   "cell_type": "code",
   "execution_count": 4,
   "metadata": {},
   "outputs": [
    {
     "data": {
      "text/html": [
       "<div>\n",
       "<style scoped>\n",
       "    .dataframe tbody tr th:only-of-type {\n",
       "        vertical-align: middle;\n",
       "    }\n",
       "\n",
       "    .dataframe tbody tr th {\n",
       "        vertical-align: top;\n",
       "    }\n",
       "\n",
       "    .dataframe thead th {\n",
       "        text-align: right;\n",
       "    }\n",
       "</style>\n",
       "<table border=\"1\" class=\"dataframe\">\n",
       "  <thead>\n",
       "    <tr style=\"text-align: right;\">\n",
       "      <th></th>\n",
       "      <th>id</th>\n",
       "      <th>type</th>\n",
       "      <th>name</th>\n",
       "      <th>yearpublished</th>\n",
       "      <th>minplayers</th>\n",
       "      <th>maxplayers</th>\n",
       "      <th>playingtime</th>\n",
       "      <th>minplaytime</th>\n",
       "      <th>maxplaytime</th>\n",
       "      <th>minage</th>\n",
       "      <th>users_rated</th>\n",
       "      <th>average_rating</th>\n",
       "      <th>bayes_average_rating</th>\n",
       "      <th>total_owners</th>\n",
       "      <th>total_traders</th>\n",
       "      <th>total_wanters</th>\n",
       "      <th>total_wishers</th>\n",
       "      <th>total_comments</th>\n",
       "      <th>total_weights</th>\n",
       "      <th>average_weight</th>\n",
       "    </tr>\n",
       "  </thead>\n",
       "  <tbody>\n",
       "    <tr>\n",
       "      <th>0</th>\n",
       "      <td>1</td>\n",
       "      <td>boardgame</td>\n",
       "      <td>Twilight Struggle</td>\n",
       "      <td>2005</td>\n",
       "      <td>2</td>\n",
       "      <td>2</td>\n",
       "      <td>180</td>\n",
       "      <td>180</td>\n",
       "      <td>180</td>\n",
       "      <td>13</td>\n",
       "      <td>20113</td>\n",
       "      <td>8.33774</td>\n",
       "      <td>8.22186</td>\n",
       "      <td>26647</td>\n",
       "      <td>372</td>\n",
       "      <td>1219</td>\n",
       "      <td>5865</td>\n",
       "      <td>5347</td>\n",
       "      <td>2562</td>\n",
       "      <td>3.4785</td>\n",
       "    </tr>\n",
       "    <tr>\n",
       "      <th>1</th>\n",
       "      <td>2</td>\n",
       "      <td>boardgame</td>\n",
       "      <td>Terra Mystica</td>\n",
       "      <td>2012</td>\n",
       "      <td>2</td>\n",
       "      <td>5</td>\n",
       "      <td>150</td>\n",
       "      <td>60</td>\n",
       "      <td>150</td>\n",
       "      <td>12</td>\n",
       "      <td>14383</td>\n",
       "      <td>8.28798</td>\n",
       "      <td>8.14232</td>\n",
       "      <td>16519</td>\n",
       "      <td>132</td>\n",
       "      <td>1586</td>\n",
       "      <td>6277</td>\n",
       "      <td>2526</td>\n",
       "      <td>1423</td>\n",
       "      <td>3.8939</td>\n",
       "    </tr>\n",
       "    <tr>\n",
       "      <th>2</th>\n",
       "      <td>3</td>\n",
       "      <td>boardgame</td>\n",
       "      <td>Caverna: The Cave Farmers</td>\n",
       "      <td>2013</td>\n",
       "      <td>1</td>\n",
       "      <td>7</td>\n",
       "      <td>210</td>\n",
       "      <td>30</td>\n",
       "      <td>210</td>\n",
       "      <td>12</td>\n",
       "      <td>9262</td>\n",
       "      <td>8.28994</td>\n",
       "      <td>8.06886</td>\n",
       "      <td>12230</td>\n",
       "      <td>99</td>\n",
       "      <td>1476</td>\n",
       "      <td>5600</td>\n",
       "      <td>1700</td>\n",
       "      <td>777</td>\n",
       "      <td>3.7761</td>\n",
       "    </tr>\n",
       "    <tr>\n",
       "      <th>3</th>\n",
       "      <td>4</td>\n",
       "      <td>boardgame</td>\n",
       "      <td>Through the Ages: A Story of Civilization</td>\n",
       "      <td>2006</td>\n",
       "      <td>2</td>\n",
       "      <td>4</td>\n",
       "      <td>240</td>\n",
       "      <td>240</td>\n",
       "      <td>240</td>\n",
       "      <td>12</td>\n",
       "      <td>13294</td>\n",
       "      <td>8.20407</td>\n",
       "      <td>8.05804</td>\n",
       "      <td>14343</td>\n",
       "      <td>362</td>\n",
       "      <td>1084</td>\n",
       "      <td>5075</td>\n",
       "      <td>3378</td>\n",
       "      <td>1642</td>\n",
       "      <td>4.1590</td>\n",
       "    </tr>\n",
       "    <tr>\n",
       "      <th>4</th>\n",
       "      <td>5</td>\n",
       "      <td>boardgame</td>\n",
       "      <td>Puerto Rico</td>\n",
       "      <td>2002</td>\n",
       "      <td>2</td>\n",
       "      <td>5</td>\n",
       "      <td>150</td>\n",
       "      <td>90</td>\n",
       "      <td>150</td>\n",
       "      <td>12</td>\n",
       "      <td>39883</td>\n",
       "      <td>8.14261</td>\n",
       "      <td>8.04524</td>\n",
       "      <td>44362</td>\n",
       "      <td>795</td>\n",
       "      <td>861</td>\n",
       "      <td>5414</td>\n",
       "      <td>9173</td>\n",
       "      <td>5213</td>\n",
       "      <td>3.2943</td>\n",
       "    </tr>\n",
       "  </tbody>\n",
       "</table>\n",
       "</div>"
      ],
      "text/plain": [
       "   id       type                                       name  yearpublished  \\\n",
       "0   1  boardgame                          Twilight Struggle           2005   \n",
       "1   2  boardgame                              Terra Mystica           2012   \n",
       "2   3  boardgame                  Caverna: The Cave Farmers           2013   \n",
       "3   4  boardgame  Through the Ages: A Story of Civilization           2006   \n",
       "4   5  boardgame                                Puerto Rico           2002   \n",
       "\n",
       "   minplayers  maxplayers  playingtime  minplaytime  maxplaytime  minage  \\\n",
       "0           2           2          180          180          180      13   \n",
       "1           2           5          150           60          150      12   \n",
       "2           1           7          210           30          210      12   \n",
       "3           2           4          240          240          240      12   \n",
       "4           2           5          150           90          150      12   \n",
       "\n",
       "   users_rated  average_rating  bayes_average_rating  total_owners  \\\n",
       "0        20113         8.33774               8.22186         26647   \n",
       "1        14383         8.28798               8.14232         16519   \n",
       "2         9262         8.28994               8.06886         12230   \n",
       "3        13294         8.20407               8.05804         14343   \n",
       "4        39883         8.14261               8.04524         44362   \n",
       "\n",
       "   total_traders  total_wanters  total_wishers  total_comments  total_weights  \\\n",
       "0            372           1219           5865            5347           2562   \n",
       "1            132           1586           6277            2526           1423   \n",
       "2             99           1476           5600            1700            777   \n",
       "3            362           1084           5075            3378           1642   \n",
       "4            795            861           5414            9173           5213   \n",
       "\n",
       "   average_weight  \n",
       "0          3.4785  \n",
       "1          3.8939  \n",
       "2          3.7761  \n",
       "3          4.1590  \n",
       "4          3.2943  "
      ]
     },
     "execution_count": 4,
     "metadata": {},
     "output_type": "execute_result"
    }
   ],
   "source": [
    "df.head()"
   ]
  },
  {
   "cell_type": "markdown",
   "metadata": {},
   "source": [
    "** Use .info() method to find out total number of entries in dataset**"
   ]
  },
  {
   "cell_type": "code",
   "execution_count": 5,
   "metadata": {},
   "outputs": [
    {
     "name": "stdout",
     "output_type": "stream",
     "text": [
      "<class 'pandas.core.frame.DataFrame'>\n",
      "RangeIndex: 2665 entries, 0 to 2664\n",
      "Data columns (total 20 columns):\n",
      "id                      2665 non-null int64\n",
      "type                    2665 non-null object\n",
      "name                    2665 non-null object\n",
      "yearpublished           2665 non-null int64\n",
      "minplayers              2665 non-null int64\n",
      "maxplayers              2665 non-null int64\n",
      "playingtime             2665 non-null int64\n",
      "minplaytime             2665 non-null int64\n",
      "maxplaytime             2665 non-null int64\n",
      "minage                  2665 non-null int64\n",
      "users_rated             2665 non-null int64\n",
      "average_rating          2665 non-null float64\n",
      "bayes_average_rating    2665 non-null float64\n",
      "total_owners            2665 non-null int64\n",
      "total_traders           2665 non-null int64\n",
      "total_wanters           2665 non-null int64\n",
      "total_wishers           2665 non-null int64\n",
      "total_comments          2665 non-null int64\n",
      "total_weights           2665 non-null int64\n",
      "average_weight          2665 non-null float64\n",
      "dtypes: float64(3), int64(15), object(2)\n",
      "memory usage: 416.5+ KB\n"
     ]
    }
   ],
   "source": [
    "df.info()"
   ]
  },
  {
   "cell_type": "markdown",
   "metadata": {},
   "source": [
    "In this data set there is 20 Columns and 2665 rows is there."
   ]
  },
  {
   "cell_type": "markdown",
   "metadata": {},
   "source": [
    "**What is the mean playin time for all games put together ?**"
   ]
  },
  {
   "cell_type": "code",
   "execution_count": 6,
   "metadata": {},
   "outputs": [
    {
     "data": {
      "text/plain": [
       "105.03489681050657"
      ]
     },
     "execution_count": 6,
     "metadata": {},
     "output_type": "execute_result"
    }
   ],
   "source": [
    "df.playingtime.mean()"
   ]
  },
  {
   "cell_type": "markdown",
   "metadata": {},
   "source": [
    "Mean playing time for all the games is 105.034869 units."
   ]
  },
  {
   "cell_type": "markdown",
   "metadata": {},
   "source": [
    "** What is the highest number of comments received for a game? **"
   ]
  },
  {
   "cell_type": "code",
   "execution_count": 7,
   "metadata": {},
   "outputs": [
    {
     "data": {
      "text/html": [
       "<div>\n",
       "<style scoped>\n",
       "    .dataframe tbody tr th:only-of-type {\n",
       "        vertical-align: middle;\n",
       "    }\n",
       "\n",
       "    .dataframe tbody tr th {\n",
       "        vertical-align: top;\n",
       "    }\n",
       "\n",
       "    .dataframe thead th {\n",
       "        text-align: right;\n",
       "    }\n",
       "</style>\n",
       "<table border=\"1\" class=\"dataframe\">\n",
       "  <thead>\n",
       "    <tr style=\"text-align: right;\">\n",
       "      <th></th>\n",
       "      <th>name</th>\n",
       "      <th>total_comments</th>\n",
       "    </tr>\n",
       "  </thead>\n",
       "  <tbody>\n",
       "    <tr>\n",
       "      <th>165</th>\n",
       "      <td>Catan</td>\n",
       "      <td>11798</td>\n",
       "    </tr>\n",
       "  </tbody>\n",
       "</table>\n",
       "</div>"
      ],
      "text/plain": [
       "      name  total_comments\n",
       "165  Catan           11798"
      ]
     },
     "execution_count": 7,
     "metadata": {},
     "output_type": "execute_result"
    }
   ],
   "source": [
    "df[df.total_comments==df.total_comments.max()][['name','total_comments']]\n",
    "\n"
   ]
  },
  {
   "cell_type": "code",
   "execution_count": 8,
   "metadata": {},
   "outputs": [
    {
     "data": {
      "text/plain": [
       "165    11798\n",
       "Name: total_comments, dtype: int64"
      ]
     },
     "execution_count": 8,
     "metadata": {},
     "output_type": "execute_result"
    }
   ],
   "source": [
    "df[df.total_comments==df.total_comments.max()]['total_comments']"
   ]
  },
  {
   "cell_type": "markdown",
   "metadata": {},
   "source": [
    "Catan Game received most number of comments having 11798"
   ]
  },
  {
   "cell_type": "markdown",
   "metadata": {},
   "source": [
    "** What is the name of the game with id 1500?  **"
   ]
  },
  {
   "cell_type": "code",
   "execution_count": 9,
   "metadata": {},
   "outputs": [
    {
     "data": {
      "text/html": [
       "<div>\n",
       "<style scoped>\n",
       "    .dataframe tbody tr th:only-of-type {\n",
       "        vertical-align: middle;\n",
       "    }\n",
       "\n",
       "    .dataframe tbody tr th {\n",
       "        vertical-align: top;\n",
       "    }\n",
       "\n",
       "    .dataframe thead th {\n",
       "        text-align: right;\n",
       "    }\n",
       "</style>\n",
       "<table border=\"1\" class=\"dataframe\">\n",
       "  <thead>\n",
       "    <tr style=\"text-align: right;\">\n",
       "      <th></th>\n",
       "      <th>name</th>\n",
       "      <th>id</th>\n",
       "    </tr>\n",
       "  </thead>\n",
       "  <tbody>\n",
       "    <tr>\n",
       "      <th>1499</th>\n",
       "      <td>El Grande: Knig &amp; Intrigant</td>\n",
       "      <td>1500</td>\n",
       "    </tr>\n",
       "  </tbody>\n",
       "</table>\n",
       "</div>"
      ],
      "text/plain": [
       "                             name    id\n",
       "1499  El Grande: Knig & Intrigant  1500"
      ]
     },
     "execution_count": 9,
     "metadata": {},
     "output_type": "execute_result"
    }
   ],
   "source": [
    "df[df.id==1500][['name','id']]"
   ]
  },
  {
   "cell_type": "markdown",
   "metadata": {},
   "source": [
    " El Grande: Knig & Intrigant game having id = 1500"
   ]
  },
  {
   "cell_type": "markdown",
   "metadata": {},
   "source": [
    "** And which year was it published? **"
   ]
  },
  {
   "cell_type": "code",
   "execution_count": 10,
   "metadata": {},
   "outputs": [
    {
     "data": {
      "text/html": [
       "<div>\n",
       "<style scoped>\n",
       "    .dataframe tbody tr th:only-of-type {\n",
       "        vertical-align: middle;\n",
       "    }\n",
       "\n",
       "    .dataframe tbody tr th {\n",
       "        vertical-align: top;\n",
       "    }\n",
       "\n",
       "    .dataframe thead th {\n",
       "        text-align: right;\n",
       "    }\n",
       "</style>\n",
       "<table border=\"1\" class=\"dataframe\">\n",
       "  <thead>\n",
       "    <tr style=\"text-align: right;\">\n",
       "      <th></th>\n",
       "      <th>id</th>\n",
       "      <th>name</th>\n",
       "      <th>yearpublished</th>\n",
       "    </tr>\n",
       "  </thead>\n",
       "  <tbody>\n",
       "    <tr>\n",
       "      <th>1499</th>\n",
       "      <td>1500</td>\n",
       "      <td>El Grande: Knig &amp; Intrigant</td>\n",
       "      <td>1997</td>\n",
       "    </tr>\n",
       "  </tbody>\n",
       "</table>\n",
       "</div>"
      ],
      "text/plain": [
       "        id                         name  yearpublished\n",
       "1499  1500  El Grande: Knig & Intrigant           1997"
      ]
     },
     "execution_count": 10,
     "metadata": {},
     "output_type": "execute_result"
    }
   ],
   "source": [
    "df[df.id==1500][['id','name','yearpublished']]"
   ]
  },
  {
   "cell_type": "markdown",
   "metadata": {},
   "source": [
    " El Grande: Knig & Intrigant game having id = 1500 had published in 1997"
   ]
  },
  {
   "cell_type": "markdown",
   "metadata": {},
   "source": [
    "** Which game has received highest number of comments? **"
   ]
  },
  {
   "cell_type": "code",
   "execution_count": 11,
   "metadata": {},
   "outputs": [
    {
     "data": {
      "text/html": [
       "<div>\n",
       "<style scoped>\n",
       "    .dataframe tbody tr th:only-of-type {\n",
       "        vertical-align: middle;\n",
       "    }\n",
       "\n",
       "    .dataframe tbody tr th {\n",
       "        vertical-align: top;\n",
       "    }\n",
       "\n",
       "    .dataframe thead th {\n",
       "        text-align: right;\n",
       "    }\n",
       "</style>\n",
       "<table border=\"1\" class=\"dataframe\">\n",
       "  <thead>\n",
       "    <tr style=\"text-align: right;\">\n",
       "      <th></th>\n",
       "      <th>name</th>\n",
       "      <th>total_comments</th>\n",
       "    </tr>\n",
       "  </thead>\n",
       "  <tbody>\n",
       "    <tr>\n",
       "      <th>165</th>\n",
       "      <td>Catan</td>\n",
       "      <td>11798</td>\n",
       "    </tr>\n",
       "  </tbody>\n",
       "</table>\n",
       "</div>"
      ],
      "text/plain": [
       "      name  total_comments\n",
       "165  Catan           11798"
      ]
     },
     "execution_count": 11,
     "metadata": {},
     "output_type": "execute_result"
    }
   ],
   "source": [
    "df[df.total_comments==df.total_comments.max()][['name','total_comments']]\n"
   ]
  },
  {
   "cell_type": "markdown",
   "metadata": {},
   "source": [
    " Caten game received maximum number of comments"
   ]
  },
  {
   "cell_type": "markdown",
   "metadata": {},
   "source": [
    "** Which games have received least number of comments? **"
   ]
  },
  {
   "cell_type": "code",
   "execution_count": 12,
   "metadata": {},
   "outputs": [
    {
     "data": {
      "text/html": [
       "<div>\n",
       "<style scoped>\n",
       "    .dataframe tbody tr th:only-of-type {\n",
       "        vertical-align: middle;\n",
       "    }\n",
       "\n",
       "    .dataframe tbody tr th {\n",
       "        vertical-align: top;\n",
       "    }\n",
       "\n",
       "    .dataframe thead th {\n",
       "        text-align: right;\n",
       "    }\n",
       "</style>\n",
       "<table border=\"1\" class=\"dataframe\">\n",
       "  <thead>\n",
       "    <tr style=\"text-align: right;\">\n",
       "      <th></th>\n",
       "      <th>name</th>\n",
       "      <th>total_comments</th>\n",
       "    </tr>\n",
       "  </thead>\n",
       "  <tbody>\n",
       "    <tr>\n",
       "      <th>1572</th>\n",
       "      <td>Fire On The Suns: Tactical Command Fleet Book 1</td>\n",
       "      <td>0</td>\n",
       "    </tr>\n",
       "    <tr>\n",
       "      <th>1584</th>\n",
       "      <td>Hossa! Seefahrer-Erweiterung</td>\n",
       "      <td>0</td>\n",
       "    </tr>\n",
       "    <tr>\n",
       "      <th>1665</th>\n",
       "      <td>Worlds of Heroes &amp; Tyrants: Hell Card Expansio...</td>\n",
       "      <td>0</td>\n",
       "    </tr>\n",
       "    <tr>\n",
       "      <th>1750</th>\n",
       "      <td>Aura Battler Dunbine: Wing Caliver</td>\n",
       "      <td>0</td>\n",
       "    </tr>\n",
       "    <tr>\n",
       "      <th>1751</th>\n",
       "      <td>Mobile Suit Z Gundam: Gate of Zedan</td>\n",
       "      <td>0</td>\n",
       "    </tr>\n",
       "    <tr>\n",
       "      <th>1752</th>\n",
       "      <td>Mobile Suit Gundam: White Base</td>\n",
       "      <td>0</td>\n",
       "    </tr>\n",
       "    <tr>\n",
       "      <th>1753</th>\n",
       "      <td>L-Gaim Mark II</td>\n",
       "      <td>0</td>\n",
       "    </tr>\n",
       "    <tr>\n",
       "      <th>1768</th>\n",
       "      <td>Lemlican Series 3: Arms Collection</td>\n",
       "      <td>0</td>\n",
       "    </tr>\n",
       "    <tr>\n",
       "      <th>1769</th>\n",
       "      <td>Lemlican Series 2: Lemlican Monsters</td>\n",
       "      <td>0</td>\n",
       "    </tr>\n",
       "    <tr>\n",
       "      <th>1770</th>\n",
       "      <td>Wizardry Card Game Wiz Ball Expansion Kit</td>\n",
       "      <td>0</td>\n",
       "    </tr>\n",
       "    <tr>\n",
       "      <th>1772</th>\n",
       "      <td>Gal Master 2</td>\n",
       "      <td>0</td>\n",
       "    </tr>\n",
       "    <tr>\n",
       "      <th>1776</th>\n",
       "      <td>Super Nova: Event Horizon</td>\n",
       "      <td>0</td>\n",
       "    </tr>\n",
       "    <tr>\n",
       "      <th>1785</th>\n",
       "      <td>Aventuras Hericas: A Revelao da Princesa / O E...</td>\n",
       "      <td>0</td>\n",
       "    </tr>\n",
       "    <tr>\n",
       "      <th>1811</th>\n",
       "      <td>Speed Circuit Tournament Tracks</td>\n",
       "      <td>0</td>\n",
       "    </tr>\n",
       "    <tr>\n",
       "      <th>1889</th>\n",
       "      <td>Sturmovik, Clash of Eagles Expansion</td>\n",
       "      <td>0</td>\n",
       "    </tr>\n",
       "    <tr>\n",
       "      <th>1933</th>\n",
       "      <td>Forte Trivia Cards Volume II</td>\n",
       "      <td>0</td>\n",
       "    </tr>\n",
       "    <tr>\n",
       "      <th>1934</th>\n",
       "      <td>Zeppelin</td>\n",
       "      <td>0</td>\n",
       "    </tr>\n",
       "    <tr>\n",
       "      <th>1961</th>\n",
       "      <td>Love, Sex and Romance Trivia Card Set</td>\n",
       "      <td>0</td>\n",
       "    </tr>\n",
       "    <tr>\n",
       "      <th>1966</th>\n",
       "      <td>Trivia Adventure Plus</td>\n",
       "      <td>0</td>\n",
       "    </tr>\n",
       "    <tr>\n",
       "      <th>1989</th>\n",
       "      <td>Mayhem</td>\n",
       "      <td>0</td>\n",
       "    </tr>\n",
       "    <tr>\n",
       "      <th>2065</th>\n",
       "      <td>Entrepreneur's Accessory to Monopoly</td>\n",
       "      <td>0</td>\n",
       "    </tr>\n",
       "    <tr>\n",
       "      <th>2092</th>\n",
       "      <td>Crusade</td>\n",
       "      <td>0</td>\n",
       "    </tr>\n",
       "    <tr>\n",
       "      <th>2098</th>\n",
       "      <td>Starfleet Wars: Observer's Directory &amp; Identif...</td>\n",
       "      <td>0</td>\n",
       "    </tr>\n",
       "    <tr>\n",
       "      <th>2100</th>\n",
       "      <td>Suomi: A module for Clash of Eagles</td>\n",
       "      <td>0</td>\n",
       "    </tr>\n",
       "    <tr>\n",
       "      <th>2142</th>\n",
       "      <td>Bar-barians!</td>\n",
       "      <td>0</td>\n",
       "    </tr>\n",
       "    <tr>\n",
       "      <th>2169</th>\n",
       "      <td>Carnage: Skullbrawl</td>\n",
       "      <td>0</td>\n",
       "    </tr>\n",
       "    <tr>\n",
       "      <th>2173</th>\n",
       "      <td>Horsepower: 5000  Expansion Set 1  World Rails</td>\n",
       "      <td>0</td>\n",
       "    </tr>\n",
       "    <tr>\n",
       "      <th>2183</th>\n",
       "      <td>Alexander</td>\n",
       "      <td>0</td>\n",
       "    </tr>\n",
       "    <tr>\n",
       "      <th>2188</th>\n",
       "      <td>Mobile Suit Gundam ZZ: Core 3</td>\n",
       "      <td>0</td>\n",
       "    </tr>\n",
       "    <tr>\n",
       "      <th>2191</th>\n",
       "      <td>Renegade Legion: Interceptor  The Fire Eagles</td>\n",
       "      <td>0</td>\n",
       "    </tr>\n",
       "    <tr>\n",
       "      <th>...</th>\n",
       "      <td>...</td>\n",
       "      <td>...</td>\n",
       "    </tr>\n",
       "    <tr>\n",
       "      <th>2335</th>\n",
       "      <td>Napoleonic Scenarios Volume 2</td>\n",
       "      <td>0</td>\n",
       "    </tr>\n",
       "    <tr>\n",
       "      <th>2345</th>\n",
       "      <td>No Pasaran!: La Quinta del Biberon  Balaguer 1938</td>\n",
       "      <td>0</td>\n",
       "    </tr>\n",
       "    <tr>\n",
       "      <th>2383</th>\n",
       "      <td>Cranium New York Booster Pack</td>\n",
       "      <td>0</td>\n",
       "    </tr>\n",
       "    <tr>\n",
       "      <th>2394</th>\n",
       "      <td>Floaties &amp; Sinkies!</td>\n",
       "      <td>0</td>\n",
       "    </tr>\n",
       "    <tr>\n",
       "      <th>2397</th>\n",
       "      <td>Hossa!: Arbeiterlieder</td>\n",
       "      <td>0</td>\n",
       "    </tr>\n",
       "    <tr>\n",
       "      <th>2429</th>\n",
       "      <td>Meck Wars</td>\n",
       "      <td>0</td>\n",
       "    </tr>\n",
       "    <tr>\n",
       "      <th>2430</th>\n",
       "      <td>Train Raider: Europe Expansion</td>\n",
       "      <td>0</td>\n",
       "    </tr>\n",
       "    <tr>\n",
       "      <th>2448</th>\n",
       "      <td>Tank War: Expansion A</td>\n",
       "      <td>0</td>\n",
       "    </tr>\n",
       "    <tr>\n",
       "      <th>2455</th>\n",
       "      <td>Avanti Savoia: Intelligence Handbook on Italia...</td>\n",
       "      <td>0</td>\n",
       "    </tr>\n",
       "    <tr>\n",
       "      <th>2545</th>\n",
       "      <td>History of War: \"Fall Gelb\" Edition</td>\n",
       "      <td>0</td>\n",
       "    </tr>\n",
       "    <tr>\n",
       "      <th>2547</th>\n",
       "      <td>Vampire Wars: The Antagonists</td>\n",
       "      <td>0</td>\n",
       "    </tr>\n",
       "    <tr>\n",
       "      <th>2557</th>\n",
       "      <td>Krebiz-4</td>\n",
       "      <td>0</td>\n",
       "    </tr>\n",
       "    <tr>\n",
       "      <th>2606</th>\n",
       "      <td>Overlords Monsters Packs</td>\n",
       "      <td>0</td>\n",
       "    </tr>\n",
       "    <tr>\n",
       "      <th>2607</th>\n",
       "      <td>Piglings Revenge, PigWars Expansion Module #1</td>\n",
       "      <td>0</td>\n",
       "    </tr>\n",
       "    <tr>\n",
       "      <th>2621</th>\n",
       "      <td>Mad Scientist University Course Packet: Anthro...</td>\n",
       "      <td>0</td>\n",
       "    </tr>\n",
       "    <tr>\n",
       "      <th>2622</th>\n",
       "      <td>Mad Scientist University Course Packet: Chemistry</td>\n",
       "      <td>0</td>\n",
       "    </tr>\n",
       "    <tr>\n",
       "      <th>2623</th>\n",
       "      <td>Mad Scientist University Course Packet: Astronomy</td>\n",
       "      <td>0</td>\n",
       "    </tr>\n",
       "    <tr>\n",
       "      <th>2624</th>\n",
       "      <td>Mad Scientist University Course Packet: Computers</td>\n",
       "      <td>0</td>\n",
       "    </tr>\n",
       "    <tr>\n",
       "      <th>2625</th>\n",
       "      <td>Mad Scientist University Course Packet: Dorm Life</td>\n",
       "      <td>0</td>\n",
       "    </tr>\n",
       "    <tr>\n",
       "      <th>2626</th>\n",
       "      <td>Mad Scientist University Course Packet: Greek ...</td>\n",
       "      <td>0</td>\n",
       "    </tr>\n",
       "    <tr>\n",
       "      <th>2627</th>\n",
       "      <td>Mad Scientist University Course Packet: Physic...</td>\n",
       "      <td>0</td>\n",
       "    </tr>\n",
       "    <tr>\n",
       "      <th>2628</th>\n",
       "      <td>Mad Scientist University Course Packet: Medicine</td>\n",
       "      <td>0</td>\n",
       "    </tr>\n",
       "    <tr>\n",
       "      <th>2629</th>\n",
       "      <td>Mad Scientist University Course Packet: Physics</td>\n",
       "      <td>0</td>\n",
       "    </tr>\n",
       "    <tr>\n",
       "      <th>2631</th>\n",
       "      <td>Mad Scientist University Course Packet: Theater</td>\n",
       "      <td>0</td>\n",
       "    </tr>\n",
       "    <tr>\n",
       "      <th>2632</th>\n",
       "      <td>Mad Scientist University Course Packet: Winter...</td>\n",
       "      <td>0</td>\n",
       "    </tr>\n",
       "    <tr>\n",
       "      <th>2633</th>\n",
       "      <td>Mad Scientist University Course Packet: Zoology</td>\n",
       "      <td>0</td>\n",
       "    </tr>\n",
       "    <tr>\n",
       "      <th>2635</th>\n",
       "      <td>Mad Scientist University Course Packet: PSI PHI</td>\n",
       "      <td>0</td>\n",
       "    </tr>\n",
       "    <tr>\n",
       "      <th>2636</th>\n",
       "      <td>Mad Scientist University Course Packet: Indepe...</td>\n",
       "      <td>0</td>\n",
       "    </tr>\n",
       "    <tr>\n",
       "      <th>2637</th>\n",
       "      <td>Mad Scientist University Course Packet: Home E...</td>\n",
       "      <td>0</td>\n",
       "    </tr>\n",
       "    <tr>\n",
       "      <th>2649</th>\n",
       "      <td>La die Kirche ins Dorf Erweiterung</td>\n",
       "      <td>0</td>\n",
       "    </tr>\n",
       "  </tbody>\n",
       "</table>\n",
       "<p>65 rows × 2 columns</p>\n",
       "</div>"
      ],
      "text/plain": [
       "                                                   name  total_comments\n",
       "1572    Fire On The Suns: Tactical Command Fleet Book 1               0\n",
       "1584                       Hossa! Seefahrer-Erweiterung               0\n",
       "1665  Worlds of Heroes & Tyrants: Hell Card Expansio...               0\n",
       "1750                 Aura Battler Dunbine: Wing Caliver               0\n",
       "1751                Mobile Suit Z Gundam: Gate of Zedan               0\n",
       "1752                     Mobile Suit Gundam: White Base               0\n",
       "1753                                     L-Gaim Mark II               0\n",
       "1768                 Lemlican Series 3: Arms Collection               0\n",
       "1769               Lemlican Series 2: Lemlican Monsters               0\n",
       "1770          Wizardry Card Game Wiz Ball Expansion Kit               0\n",
       "1772                                       Gal Master 2               0\n",
       "1776                          Super Nova: Event Horizon               0\n",
       "1785  Aventuras Hericas: A Revelao da Princesa / O E...               0\n",
       "1811                    Speed Circuit Tournament Tracks               0\n",
       "1889               Sturmovik, Clash of Eagles Expansion               0\n",
       "1933                       Forte Trivia Cards Volume II               0\n",
       "1934                                           Zeppelin               0\n",
       "1961              Love, Sex and Romance Trivia Card Set               0\n",
       "1966                              Trivia Adventure Plus               0\n",
       "1989                                             Mayhem               0\n",
       "2065               Entrepreneur's Accessory to Monopoly               0\n",
       "2092                                            Crusade               0\n",
       "2098  Starfleet Wars: Observer's Directory & Identif...               0\n",
       "2100                Suomi: A module for Clash of Eagles               0\n",
       "2142                                       Bar-barians!               0\n",
       "2169                                Carnage: Skullbrawl               0\n",
       "2173     Horsepower: 5000  Expansion Set 1  World Rails               0\n",
       "2183                                          Alexander               0\n",
       "2188                      Mobile Suit Gundam ZZ: Core 3               0\n",
       "2191      Renegade Legion: Interceptor  The Fire Eagles               0\n",
       "...                                                 ...             ...\n",
       "2335                      Napoleonic Scenarios Volume 2               0\n",
       "2345  No Pasaran!: La Quinta del Biberon  Balaguer 1938               0\n",
       "2383                      Cranium New York Booster Pack               0\n",
       "2394                                Floaties & Sinkies!               0\n",
       "2397                             Hossa!: Arbeiterlieder               0\n",
       "2429                                          Meck Wars               0\n",
       "2430                     Train Raider: Europe Expansion               0\n",
       "2448                              Tank War: Expansion A               0\n",
       "2455  Avanti Savoia: Intelligence Handbook on Italia...               0\n",
       "2545                History of War: \"Fall Gelb\" Edition               0\n",
       "2547                      Vampire Wars: The Antagonists               0\n",
       "2557                                           Krebiz-4               0\n",
       "2606                           Overlords Monsters Packs               0\n",
       "2607      Piglings Revenge, PigWars Expansion Module #1               0\n",
       "2621  Mad Scientist University Course Packet: Anthro...               0\n",
       "2622  Mad Scientist University Course Packet: Chemistry               0\n",
       "2623  Mad Scientist University Course Packet: Astronomy               0\n",
       "2624  Mad Scientist University Course Packet: Computers               0\n",
       "2625  Mad Scientist University Course Packet: Dorm Life               0\n",
       "2626  Mad Scientist University Course Packet: Greek ...               0\n",
       "2627  Mad Scientist University Course Packet: Physic...               0\n",
       "2628   Mad Scientist University Course Packet: Medicine               0\n",
       "2629    Mad Scientist University Course Packet: Physics               0\n",
       "2631    Mad Scientist University Course Packet: Theater               0\n",
       "2632  Mad Scientist University Course Packet: Winter...               0\n",
       "2633    Mad Scientist University Course Packet: Zoology               0\n",
       "2635    Mad Scientist University Course Packet: PSI PHI               0\n",
       "2636  Mad Scientist University Course Packet: Indepe...               0\n",
       "2637  Mad Scientist University Course Packet: Home E...               0\n",
       "2649                 La die Kirche ins Dorf Erweiterung               0\n",
       "\n",
       "[65 rows x 2 columns]"
      ]
     },
     "execution_count": 12,
     "metadata": {},
     "output_type": "execute_result"
    }
   ],
   "source": [
    "df[df.total_comments==df.total_comments.min()][['name','total_comments']]"
   ]
  },
  {
   "cell_type": "markdown",
   "metadata": {},
   "source": [
    " Above listed games had least or zero comments in it . "
   ]
  },
  {
   "cell_type": "markdown",
   "metadata": {},
   "source": [
    " This o/p show both game list and minimum number of comments"
   ]
  },
  {
   "cell_type": "markdown",
   "metadata": {},
   "source": [
    "** What was the average minage of all games per game \"type\"? (boardgame & boardgameexpansion)**"
   ]
  },
  {
   "cell_type": "code",
   "execution_count": 13,
   "metadata": {},
   "outputs": [
    {
     "data": {
      "text/plain": [
       "type\n",
       "boardgame             10.718499\n",
       "boardgameexpansion    10.633419\n",
       "Name: minage, dtype: float64"
      ]
     },
     "execution_count": 13,
     "metadata": {},
     "output_type": "execute_result"
    }
   ],
   "source": [
    "df.groupby('type').minage.mean()\n"
   ]
  },
  {
   "cell_type": "markdown",
   "metadata": {},
   "source": [
    "** How many unique games are there in the dataset? **"
   ]
  },
  {
   "cell_type": "code",
   "execution_count": 14,
   "metadata": {},
   "outputs": [
    {
     "data": {
      "text/plain": [
       "2657"
      ]
     },
     "execution_count": 14,
     "metadata": {},
     "output_type": "execute_result"
    }
   ],
   "source": [
    "df.name.nunique()"
   ]
  },
  {
   "cell_type": "raw",
   "metadata": {},
   "source": [
    "# there are 2657 unique game is there in dataset"
   ]
  },
  {
   "cell_type": "markdown",
   "metadata": {},
   "source": [
    "** How many boardgames and boardgameexpansions are there in the dataset?  **"
   ]
  },
  {
   "cell_type": "code",
   "execution_count": 15,
   "metadata": {},
   "outputs": [
    {
     "data": {
      "text/plain": [
       "boardgame             1492\n",
       "boardgameexpansion    1173\n",
       "Name: type, dtype: int64"
      ]
     },
     "execution_count": 15,
     "metadata": {},
     "output_type": "execute_result"
    }
   ],
   "source": [
    "df.type.value_counts()"
   ]
  },
  {
   "cell_type": "raw",
   "metadata": {},
   "source": [
    "# for broadgame 1492 datasets is there and for broadgamexpansion 1173 dataset is there "
   ]
  },
  {
   "cell_type": "markdown",
   "metadata": {},
   "source": [
    "** Is there a correlation between playing time and total comments for the games? - Use the .corr() function **"
   ]
  },
  {
   "cell_type": "code",
   "execution_count": 16,
   "metadata": {},
   "outputs": [],
   "source": [
    "df2=df[['playingtime','total_comments']]"
   ]
  },
  {
   "cell_type": "code",
   "execution_count": 17,
   "metadata": {},
   "outputs": [],
   "source": [
    "correlation = df2.corr(method='pearson')"
   ]
  },
  {
   "cell_type": "code",
   "execution_count": 18,
   "metadata": {},
   "outputs": [
    {
     "name": "stdout",
     "output_type": "stream",
     "text": [
      "                playingtime  total_comments\n",
      "playingtime        1.000000       -0.010367\n",
      "total_comments    -0.010367        1.000000\n"
     ]
    }
   ],
   "source": [
    "print(correlation)"
   ]
  },
  {
   "cell_type": "markdown",
   "metadata": {},
   "source": [
    " Correlation coefficient between playing time and total comments = -0.010367, there is no correlation between playing time and total comments."
   ]
  },
  {
   "cell_type": "markdown",
   "metadata": {},
   "source": [
    "## Part 2\n",
    "## Inferential Statistical Analysis\n",
    "\n",
    "A Brand new Gaming Design Company has entered the Market in year 2015. They are interested in Analyzing the Amount of Time Gamers spend for each Game Type and check if the players spend equal Time on both Types.\n",
    "\n",
    "Analyze the same using a suitable Two Sample Test at 95% Confidence.\n",
    "\n",
    "The following points are necessarily to be adhered.\n",
    "\n",
    "  - Clean Data\n",
    "  - Transform Data(as required)\n",
    "  - Visualize Data(Draw as many patterns, not limited to Histograms & Boxplots only) - Minimum Requirement of 5 different Visualizations apart from Histograms & Boxplots to be created.\n",
    "  - Model the Data with the correct hypothesis statement\n",
    "  - Conclude on your results based on the outcome of experiment\n",
    "  - Calculate power of test and interpret the same\n",
    "  \n",
    " "
   ]
  },
  {
   "cell_type": "markdown",
   "metadata": {},
   "source": [
    "### The END"
   ]
  },
  {
   "cell_type": "code",
   "execution_count": 19,
   "metadata": {},
   "outputs": [
    {
     "data": {
      "text/html": [
       "<div>\n",
       "<style scoped>\n",
       "    .dataframe tbody tr th:only-of-type {\n",
       "        vertical-align: middle;\n",
       "    }\n",
       "\n",
       "    .dataframe tbody tr th {\n",
       "        vertical-align: top;\n",
       "    }\n",
       "\n",
       "    .dataframe thead th {\n",
       "        text-align: right;\n",
       "    }\n",
       "</style>\n",
       "<table border=\"1\" class=\"dataframe\">\n",
       "  <thead>\n",
       "    <tr style=\"text-align: right;\">\n",
       "      <th></th>\n",
       "      <th>id</th>\n",
       "      <th>yearpublished</th>\n",
       "      <th>minplayers</th>\n",
       "      <th>maxplayers</th>\n",
       "      <th>playingtime</th>\n",
       "      <th>minplaytime</th>\n",
       "      <th>maxplaytime</th>\n",
       "      <th>minage</th>\n",
       "      <th>users_rated</th>\n",
       "      <th>average_rating</th>\n",
       "      <th>bayes_average_rating</th>\n",
       "      <th>total_owners</th>\n",
       "      <th>total_traders</th>\n",
       "      <th>total_wanters</th>\n",
       "      <th>total_wishers</th>\n",
       "      <th>total_comments</th>\n",
       "      <th>total_weights</th>\n",
       "      <th>average_weight</th>\n",
       "    </tr>\n",
       "  </thead>\n",
       "  <tbody>\n",
       "    <tr>\n",
       "      <th>count</th>\n",
       "      <td>2665.000000</td>\n",
       "      <td>2665.000000</td>\n",
       "      <td>2665.000000</td>\n",
       "      <td>2665.000000</td>\n",
       "      <td>2665.000000</td>\n",
       "      <td>2665.000000</td>\n",
       "      <td>2665.000000</td>\n",
       "      <td>2665.000000</td>\n",
       "      <td>2665.000000</td>\n",
       "      <td>2665.000000</td>\n",
       "      <td>2665.000000</td>\n",
       "      <td>2665.000000</td>\n",
       "      <td>2665.000000</td>\n",
       "      <td>2665.000000</td>\n",
       "      <td>2665.000000</td>\n",
       "      <td>2665.00000</td>\n",
       "      <td>2665.000000</td>\n",
       "      <td>2665.000000</td>\n",
       "    </tr>\n",
       "    <tr>\n",
       "      <th>mean</th>\n",
       "      <td>1333.000000</td>\n",
       "      <td>1982.877298</td>\n",
       "      <td>2.056285</td>\n",
       "      <td>5.258537</td>\n",
       "      <td>105.034897</td>\n",
       "      <td>94.924953</td>\n",
       "      <td>105.034897</td>\n",
       "      <td>10.681051</td>\n",
       "      <td>1933.947467</td>\n",
       "      <td>6.878971</td>\n",
       "      <td>5.128398</td>\n",
       "      <td>2699.957223</td>\n",
       "      <td>79.107692</td>\n",
       "      <td>132.654784</td>\n",
       "      <td>470.720075</td>\n",
       "      <td>541.47242</td>\n",
       "      <td>193.041276</td>\n",
       "      <td>2.388462</td>\n",
       "    </tr>\n",
       "    <tr>\n",
       "      <th>std</th>\n",
       "      <td>769.463558</td>\n",
       "      <td>209.866182</td>\n",
       "      <td>0.721703</td>\n",
       "      <td>6.426498</td>\n",
       "      <td>302.791737</td>\n",
       "      <td>187.967350</td>\n",
       "      <td>302.791737</td>\n",
       "      <td>2.848192</td>\n",
       "      <td>3999.327924</td>\n",
       "      <td>1.170535</td>\n",
       "      <td>2.586623</td>\n",
       "      <td>5080.337278</td>\n",
       "      <td>118.613572</td>\n",
       "      <td>194.224909</td>\n",
       "      <td>800.372376</td>\n",
       "      <td>956.58704</td>\n",
       "      <td>407.356834</td>\n",
       "      <td>1.063541</td>\n",
       "    </tr>\n",
       "    <tr>\n",
       "      <th>min</th>\n",
       "      <td>1.000000</td>\n",
       "      <td>-3000.000000</td>\n",
       "      <td>0.000000</td>\n",
       "      <td>0.000000</td>\n",
       "      <td>0.000000</td>\n",
       "      <td>0.000000</td>\n",
       "      <td>0.000000</td>\n",
       "      <td>0.000000</td>\n",
       "      <td>0.000000</td>\n",
       "      <td>0.000000</td>\n",
       "      <td>0.000000</td>\n",
       "      <td>0.000000</td>\n",
       "      <td>0.000000</td>\n",
       "      <td>0.000000</td>\n",
       "      <td>0.000000</td>\n",
       "      <td>0.00000</td>\n",
       "      <td>0.000000</td>\n",
       "      <td>0.000000</td>\n",
       "    </tr>\n",
       "    <tr>\n",
       "      <th>25%</th>\n",
       "      <td>667.000000</td>\n",
       "      <td>1996.000000</td>\n",
       "      <td>2.000000</td>\n",
       "      <td>3.000000</td>\n",
       "      <td>45.000000</td>\n",
       "      <td>30.000000</td>\n",
       "      <td>45.000000</td>\n",
       "      <td>10.000000</td>\n",
       "      <td>56.000000</td>\n",
       "      <td>6.641540</td>\n",
       "      <td>5.578500</td>\n",
       "      <td>190.000000</td>\n",
       "      <td>6.000000</td>\n",
       "      <td>9.000000</td>\n",
       "      <td>15.000000</td>\n",
       "      <td>24.00000</td>\n",
       "      <td>7.000000</td>\n",
       "      <td>1.824600</td>\n",
       "    </tr>\n",
       "    <tr>\n",
       "      <th>50%</th>\n",
       "      <td>1333.000000</td>\n",
       "      <td>2004.000000</td>\n",
       "      <td>2.000000</td>\n",
       "      <td>5.000000</td>\n",
       "      <td>60.000000</td>\n",
       "      <td>60.000000</td>\n",
       "      <td>60.000000</td>\n",
       "      <td>12.000000</td>\n",
       "      <td>685.000000</td>\n",
       "      <td>7.022070</td>\n",
       "      <td>6.214220</td>\n",
       "      <td>1260.000000</td>\n",
       "      <td>37.000000</td>\n",
       "      <td>65.000000</td>\n",
       "      <td>181.000000</td>\n",
       "      <td>227.00000</td>\n",
       "      <td>70.000000</td>\n",
       "      <td>2.434800</td>\n",
       "    </tr>\n",
       "    <tr>\n",
       "      <th>75%</th>\n",
       "      <td>1999.000000</td>\n",
       "      <td>2009.000000</td>\n",
       "      <td>2.000000</td>\n",
       "      <td>6.000000</td>\n",
       "      <td>120.000000</td>\n",
       "      <td>120.000000</td>\n",
       "      <td>120.000000</td>\n",
       "      <td>12.000000</td>\n",
       "      <td>1978.000000</td>\n",
       "      <td>7.429930</td>\n",
       "      <td>6.590470</td>\n",
       "      <td>2829.000000</td>\n",
       "      <td>104.000000</td>\n",
       "      <td>165.000000</td>\n",
       "      <td>536.000000</td>\n",
       "      <td>635.00000</td>\n",
       "      <td>202.000000</td>\n",
       "      <td>3.035600</td>\n",
       "    </tr>\n",
       "    <tr>\n",
       "      <th>max</th>\n",
       "      <td>2665.000000</td>\n",
       "      <td>2015.000000</td>\n",
       "      <td>10.000000</td>\n",
       "      <td>100.000000</td>\n",
       "      <td>12000.000000</td>\n",
       "      <td>6000.000000</td>\n",
       "      <td>12000.000000</td>\n",
       "      <td>18.000000</td>\n",
       "      <td>53680.000000</td>\n",
       "      <td>9.000000</td>\n",
       "      <td>8.221860</td>\n",
       "      <td>73188.000000</td>\n",
       "      <td>1162.000000</td>\n",
       "      <td>1586.000000</td>\n",
       "      <td>6402.000000</td>\n",
       "      <td>11798.00000</td>\n",
       "      <td>5996.000000</td>\n",
       "      <td>5.000000</td>\n",
       "    </tr>\n",
       "  </tbody>\n",
       "</table>\n",
       "</div>"
      ],
      "text/plain": [
       "                id  yearpublished   minplayers   maxplayers   playingtime  \\\n",
       "count  2665.000000    2665.000000  2665.000000  2665.000000   2665.000000   \n",
       "mean   1333.000000    1982.877298     2.056285     5.258537    105.034897   \n",
       "std     769.463558     209.866182     0.721703     6.426498    302.791737   \n",
       "min       1.000000   -3000.000000     0.000000     0.000000      0.000000   \n",
       "25%     667.000000    1996.000000     2.000000     3.000000     45.000000   \n",
       "50%    1333.000000    2004.000000     2.000000     5.000000     60.000000   \n",
       "75%    1999.000000    2009.000000     2.000000     6.000000    120.000000   \n",
       "max    2665.000000    2015.000000    10.000000   100.000000  12000.000000   \n",
       "\n",
       "       minplaytime   maxplaytime       minage   users_rated  average_rating  \\\n",
       "count  2665.000000   2665.000000  2665.000000   2665.000000     2665.000000   \n",
       "mean     94.924953    105.034897    10.681051   1933.947467        6.878971   \n",
       "std     187.967350    302.791737     2.848192   3999.327924        1.170535   \n",
       "min       0.000000      0.000000     0.000000      0.000000        0.000000   \n",
       "25%      30.000000     45.000000    10.000000     56.000000        6.641540   \n",
       "50%      60.000000     60.000000    12.000000    685.000000        7.022070   \n",
       "75%     120.000000    120.000000    12.000000   1978.000000        7.429930   \n",
       "max    6000.000000  12000.000000    18.000000  53680.000000        9.000000   \n",
       "\n",
       "       bayes_average_rating  total_owners  total_traders  total_wanters  \\\n",
       "count           2665.000000   2665.000000    2665.000000    2665.000000   \n",
       "mean               5.128398   2699.957223      79.107692     132.654784   \n",
       "std                2.586623   5080.337278     118.613572     194.224909   \n",
       "min                0.000000      0.000000       0.000000       0.000000   \n",
       "25%                5.578500    190.000000       6.000000       9.000000   \n",
       "50%                6.214220   1260.000000      37.000000      65.000000   \n",
       "75%                6.590470   2829.000000     104.000000     165.000000   \n",
       "max                8.221860  73188.000000    1162.000000    1586.000000   \n",
       "\n",
       "       total_wishers  total_comments  total_weights  average_weight  \n",
       "count    2665.000000      2665.00000    2665.000000     2665.000000  \n",
       "mean      470.720075       541.47242     193.041276        2.388462  \n",
       "std       800.372376       956.58704     407.356834        1.063541  \n",
       "min         0.000000         0.00000       0.000000        0.000000  \n",
       "25%        15.000000        24.00000       7.000000        1.824600  \n",
       "50%       181.000000       227.00000      70.000000        2.434800  \n",
       "75%       536.000000       635.00000     202.000000        3.035600  \n",
       "max      6402.000000     11798.00000    5996.000000        5.000000  "
      ]
     },
     "execution_count": 19,
     "metadata": {},
     "output_type": "execute_result"
    }
   ],
   "source": [
    "df.describe()"
   ]
  },
  {
   "cell_type": "raw",
   "metadata": {},
   "source": [
    "# year cannot be negative in year published so year should be greater than zero\n",
    "https://www.technologyreview.com/s/404233/the-start-of-computer-games with the help of this source computer game originated nearly at early 1960 therefore we should remove the rows less than 1960 "
   ]
  },
  {
   "cell_type": "code",
   "execution_count": 20,
   "metadata": {},
   "outputs": [],
   "source": [
    "df3=df[df.yearpublished>1960]"
   ]
  },
  {
   "cell_type": "code",
   "execution_count": 21,
   "metadata": {},
   "outputs": [
    {
     "name": "stdout",
     "output_type": "stream",
     "text": [
      "<class 'pandas.core.frame.DataFrame'>\n",
      "Int64Index: 2624 entries, 0 to 2664\n",
      "Data columns (total 20 columns):\n",
      "id                      2624 non-null int64\n",
      "type                    2624 non-null object\n",
      "name                    2624 non-null object\n",
      "yearpublished           2624 non-null int64\n",
      "minplayers              2624 non-null int64\n",
      "maxplayers              2624 non-null int64\n",
      "playingtime             2624 non-null int64\n",
      "minplaytime             2624 non-null int64\n",
      "maxplaytime             2624 non-null int64\n",
      "minage                  2624 non-null int64\n",
      "users_rated             2624 non-null int64\n",
      "average_rating          2624 non-null float64\n",
      "bayes_average_rating    2624 non-null float64\n",
      "total_owners            2624 non-null int64\n",
      "total_traders           2624 non-null int64\n",
      "total_wanters           2624 non-null int64\n",
      "total_wishers           2624 non-null int64\n",
      "total_comments          2624 non-null int64\n",
      "total_weights           2624 non-null int64\n",
      "average_weight          2624 non-null float64\n",
      "dtypes: float64(3), int64(15), object(2)\n",
      "memory usage: 430.5+ KB\n"
     ]
    }
   ],
   "source": [
    "df3.info()\n"
   ]
  },
  {
   "cell_type": "code",
   "execution_count": 22,
   "metadata": {},
   "outputs": [
    {
     "data": {
      "text/html": [
       "<div>\n",
       "<style scoped>\n",
       "    .dataframe tbody tr th:only-of-type {\n",
       "        vertical-align: middle;\n",
       "    }\n",
       "\n",
       "    .dataframe tbody tr th {\n",
       "        vertical-align: top;\n",
       "    }\n",
       "\n",
       "    .dataframe thead th {\n",
       "        text-align: right;\n",
       "    }\n",
       "</style>\n",
       "<table border=\"1\" class=\"dataframe\">\n",
       "  <thead>\n",
       "    <tr style=\"text-align: right;\">\n",
       "      <th></th>\n",
       "      <th>id</th>\n",
       "      <th>yearpublished</th>\n",
       "      <th>minplayers</th>\n",
       "      <th>maxplayers</th>\n",
       "      <th>playingtime</th>\n",
       "      <th>minplaytime</th>\n",
       "      <th>maxplaytime</th>\n",
       "      <th>minage</th>\n",
       "      <th>users_rated</th>\n",
       "      <th>average_rating</th>\n",
       "      <th>bayes_average_rating</th>\n",
       "      <th>total_owners</th>\n",
       "      <th>total_traders</th>\n",
       "      <th>total_wanters</th>\n",
       "      <th>total_wishers</th>\n",
       "      <th>total_comments</th>\n",
       "      <th>total_weights</th>\n",
       "      <th>average_weight</th>\n",
       "    </tr>\n",
       "  </thead>\n",
       "  <tbody>\n",
       "    <tr>\n",
       "      <th>count</th>\n",
       "      <td>2624.000000</td>\n",
       "      <td>2624.000000</td>\n",
       "      <td>2624.000000</td>\n",
       "      <td>2624.000000</td>\n",
       "      <td>2624.000000</td>\n",
       "      <td>2624.000000</td>\n",
       "      <td>2624.000000</td>\n",
       "      <td>2624.000000</td>\n",
       "      <td>2624.000000</td>\n",
       "      <td>2624.000000</td>\n",
       "      <td>2624.000000</td>\n",
       "      <td>2624.000000</td>\n",
       "      <td>2624.000000</td>\n",
       "      <td>2624.000000</td>\n",
       "      <td>2624.000000</td>\n",
       "      <td>2624.000000</td>\n",
       "      <td>2624.000000</td>\n",
       "      <td>2624.000000</td>\n",
       "    </tr>\n",
       "    <tr>\n",
       "      <th>mean</th>\n",
       "      <td>1331.831936</td>\n",
       "      <td>2001.763338</td>\n",
       "      <td>2.054116</td>\n",
       "      <td>5.274009</td>\n",
       "      <td>105.620427</td>\n",
       "      <td>95.375381</td>\n",
       "      <td>105.620427</td>\n",
       "      <td>10.716463</td>\n",
       "      <td>1925.301829</td>\n",
       "      <td>6.885789</td>\n",
       "      <td>5.146868</td>\n",
       "      <td>2693.536204</td>\n",
       "      <td>79.417683</td>\n",
       "      <td>134.216082</td>\n",
       "      <td>475.364329</td>\n",
       "      <td>538.373857</td>\n",
       "      <td>192.180640</td>\n",
       "      <td>2.391485</td>\n",
       "    </tr>\n",
       "    <tr>\n",
       "      <th>std</th>\n",
       "      <td>769.467898</td>\n",
       "      <td>9.659116</td>\n",
       "      <td>0.720675</td>\n",
       "      <td>6.465368</td>\n",
       "      <td>304.999887</td>\n",
       "      <td>189.213599</td>\n",
       "      <td>304.999887</td>\n",
       "      <td>2.817694</td>\n",
       "      <td>3996.630201</td>\n",
       "      <td>1.154443</td>\n",
       "      <td>2.571998</td>\n",
       "      <td>5068.931937</td>\n",
       "      <td>118.128906</td>\n",
       "      <td>195.031208</td>\n",
       "      <td>804.007639</td>\n",
       "      <td>952.223624</td>\n",
       "      <td>407.255969</td>\n",
       "      <td>1.059460</td>\n",
       "    </tr>\n",
       "    <tr>\n",
       "      <th>min</th>\n",
       "      <td>1.000000</td>\n",
       "      <td>1961.000000</td>\n",
       "      <td>0.000000</td>\n",
       "      <td>0.000000</td>\n",
       "      <td>0.000000</td>\n",
       "      <td>0.000000</td>\n",
       "      <td>0.000000</td>\n",
       "      <td>0.000000</td>\n",
       "      <td>0.000000</td>\n",
       "      <td>0.000000</td>\n",
       "      <td>0.000000</td>\n",
       "      <td>0.000000</td>\n",
       "      <td>0.000000</td>\n",
       "      <td>0.000000</td>\n",
       "      <td>0.000000</td>\n",
       "      <td>0.000000</td>\n",
       "      <td>0.000000</td>\n",
       "      <td>0.000000</td>\n",
       "    </tr>\n",
       "    <tr>\n",
       "      <th>25%</th>\n",
       "      <td>663.750000</td>\n",
       "      <td>1997.000000</td>\n",
       "      <td>2.000000</td>\n",
       "      <td>3.000000</td>\n",
       "      <td>45.000000</td>\n",
       "      <td>30.000000</td>\n",
       "      <td>45.000000</td>\n",
       "      <td>10.000000</td>\n",
       "      <td>59.000000</td>\n",
       "      <td>6.642860</td>\n",
       "      <td>5.581378</td>\n",
       "      <td>195.000000</td>\n",
       "      <td>6.000000</td>\n",
       "      <td>9.000000</td>\n",
       "      <td>15.000000</td>\n",
       "      <td>24.000000</td>\n",
       "      <td>7.000000</td>\n",
       "      <td>1.827025</td>\n",
       "    </tr>\n",
       "    <tr>\n",
       "      <th>50%</th>\n",
       "      <td>1332.500000</td>\n",
       "      <td>2004.000000</td>\n",
       "      <td>2.000000</td>\n",
       "      <td>5.000000</td>\n",
       "      <td>60.000000</td>\n",
       "      <td>60.000000</td>\n",
       "      <td>60.000000</td>\n",
       "      <td>12.000000</td>\n",
       "      <td>686.000000</td>\n",
       "      <td>7.021750</td>\n",
       "      <td>6.215065</td>\n",
       "      <td>1269.000000</td>\n",
       "      <td>38.000000</td>\n",
       "      <td>67.000000</td>\n",
       "      <td>187.500000</td>\n",
       "      <td>227.500000</td>\n",
       "      <td>70.000000</td>\n",
       "      <td>2.437500</td>\n",
       "    </tr>\n",
       "    <tr>\n",
       "      <th>75%</th>\n",
       "      <td>1998.250000</td>\n",
       "      <td>2009.000000</td>\n",
       "      <td>2.000000</td>\n",
       "      <td>6.000000</td>\n",
       "      <td>120.000000</td>\n",
       "      <td>120.000000</td>\n",
       "      <td>120.000000</td>\n",
       "      <td>12.000000</td>\n",
       "      <td>1974.250000</td>\n",
       "      <td>7.433498</td>\n",
       "      <td>6.592125</td>\n",
       "      <td>2830.500000</td>\n",
       "      <td>105.250000</td>\n",
       "      <td>167.000000</td>\n",
       "      <td>545.250000</td>\n",
       "      <td>634.250000</td>\n",
       "      <td>201.000000</td>\n",
       "      <td>3.036875</td>\n",
       "    </tr>\n",
       "    <tr>\n",
       "      <th>max</th>\n",
       "      <td>2665.000000</td>\n",
       "      <td>2015.000000</td>\n",
       "      <td>10.000000</td>\n",
       "      <td>100.000000</td>\n",
       "      <td>12000.000000</td>\n",
       "      <td>6000.000000</td>\n",
       "      <td>12000.000000</td>\n",
       "      <td>18.000000</td>\n",
       "      <td>53680.000000</td>\n",
       "      <td>9.000000</td>\n",
       "      <td>8.221860</td>\n",
       "      <td>73188.000000</td>\n",
       "      <td>1162.000000</td>\n",
       "      <td>1586.000000</td>\n",
       "      <td>6402.000000</td>\n",
       "      <td>11798.000000</td>\n",
       "      <td>5996.000000</td>\n",
       "      <td>5.000000</td>\n",
       "    </tr>\n",
       "  </tbody>\n",
       "</table>\n",
       "</div>"
      ],
      "text/plain": [
       "                id  yearpublished   minplayers   maxplayers   playingtime  \\\n",
       "count  2624.000000    2624.000000  2624.000000  2624.000000   2624.000000   \n",
       "mean   1331.831936    2001.763338     2.054116     5.274009    105.620427   \n",
       "std     769.467898       9.659116     0.720675     6.465368    304.999887   \n",
       "min       1.000000    1961.000000     0.000000     0.000000      0.000000   \n",
       "25%     663.750000    1997.000000     2.000000     3.000000     45.000000   \n",
       "50%    1332.500000    2004.000000     2.000000     5.000000     60.000000   \n",
       "75%    1998.250000    2009.000000     2.000000     6.000000    120.000000   \n",
       "max    2665.000000    2015.000000    10.000000   100.000000  12000.000000   \n",
       "\n",
       "       minplaytime   maxplaytime       minage   users_rated  average_rating  \\\n",
       "count  2624.000000   2624.000000  2624.000000   2624.000000     2624.000000   \n",
       "mean     95.375381    105.620427    10.716463   1925.301829        6.885789   \n",
       "std     189.213599    304.999887     2.817694   3996.630201        1.154443   \n",
       "min       0.000000      0.000000     0.000000      0.000000        0.000000   \n",
       "25%      30.000000     45.000000    10.000000     59.000000        6.642860   \n",
       "50%      60.000000     60.000000    12.000000    686.000000        7.021750   \n",
       "75%     120.000000    120.000000    12.000000   1974.250000        7.433498   \n",
       "max    6000.000000  12000.000000    18.000000  53680.000000        9.000000   \n",
       "\n",
       "       bayes_average_rating  total_owners  total_traders  total_wanters  \\\n",
       "count           2624.000000   2624.000000    2624.000000    2624.000000   \n",
       "mean               5.146868   2693.536204      79.417683     134.216082   \n",
       "std                2.571998   5068.931937     118.128906     195.031208   \n",
       "min                0.000000      0.000000       0.000000       0.000000   \n",
       "25%                5.581378    195.000000       6.000000       9.000000   \n",
       "50%                6.215065   1269.000000      38.000000      67.000000   \n",
       "75%                6.592125   2830.500000     105.250000     167.000000   \n",
       "max                8.221860  73188.000000    1162.000000    1586.000000   \n",
       "\n",
       "       total_wishers  total_comments  total_weights  average_weight  \n",
       "count    2624.000000     2624.000000    2624.000000     2624.000000  \n",
       "mean      475.364329      538.373857     192.180640        2.391485  \n",
       "std       804.007639      952.223624     407.255969        1.059460  \n",
       "min         0.000000        0.000000       0.000000        0.000000  \n",
       "25%        15.000000       24.000000       7.000000        1.827025  \n",
       "50%       187.500000      227.500000      70.000000        2.437500  \n",
       "75%       545.250000      634.250000     201.000000        3.036875  \n",
       "max      6402.000000    11798.000000    5996.000000        5.000000  "
      ]
     },
     "execution_count": 22,
     "metadata": {},
     "output_type": "execute_result"
    }
   ],
   "source": [
    "df3.describe()"
   ]
  },
  {
   "cell_type": "code",
   "execution_count": 23,
   "metadata": {},
   "outputs": [
    {
     "data": {
      "text/plain": [
       "True"
      ]
     },
     "execution_count": 23,
     "metadata": {},
     "output_type": "execute_result"
    }
   ],
   "source": [
    "df3['id'].is_unique"
   ]
  },
  {
   "cell_type": "code",
   "execution_count": 29,
   "metadata": {},
   "outputs": [],
   "source": [
    "df4 = df3.set_index('id')"
   ]
  },
  {
   "cell_type": "markdown",
   "metadata": {},
   "source": [
    " There should be alteast one player is requried to play the game in both the cases minplayers and maxplayers so we have to those rows which is having zero players in these two columns."
   ]
  },
  {
   "cell_type": "markdown",
   "metadata": {},
   "source": [
    " There should be alteast some age is requried to play the game it should not be zero."
   ]
  },
  {
   "cell_type": "code",
   "execution_count": 31,
   "metadata": {},
   "outputs": [],
   "source": [
    "df5 = df4[(df4.minplayers>0) & (df4.maxplayers>0)& (df4.minage>0)]"
   ]
  },
  {
   "cell_type": "code",
   "execution_count": 32,
   "metadata": {},
   "outputs": [
    {
     "name": "stdout",
     "output_type": "stream",
     "text": [
      "<class 'pandas.core.frame.DataFrame'>\n",
      "Int64Index: 2476 entries, 1 to 2665\n",
      "Data columns (total 19 columns):\n",
      "type                    2476 non-null object\n",
      "name                    2476 non-null object\n",
      "yearpublished           2476 non-null int64\n",
      "minplayers              2476 non-null int64\n",
      "maxplayers              2476 non-null int64\n",
      "playingtime             2476 non-null int64\n",
      "minplaytime             2476 non-null int64\n",
      "maxplaytime             2476 non-null int64\n",
      "minage                  2476 non-null int64\n",
      "users_rated             2476 non-null int64\n",
      "average_rating          2476 non-null float64\n",
      "bayes_average_rating    2476 non-null float64\n",
      "total_owners            2476 non-null int64\n",
      "total_traders           2476 non-null int64\n",
      "total_wanters           2476 non-null int64\n",
      "total_wishers           2476 non-null int64\n",
      "total_comments          2476 non-null int64\n",
      "total_weights           2476 non-null int64\n",
      "average_weight          2476 non-null float64\n",
      "dtypes: float64(3), int64(14), object(2)\n",
      "memory usage: 386.9+ KB\n"
     ]
    }
   ],
   "source": [
    "df5.info()"
   ]
  },
  {
   "cell_type": "code",
   "execution_count": 33,
   "metadata": {},
   "outputs": [
    {
     "data": {
      "text/html": [
       "<div>\n",
       "<style scoped>\n",
       "    .dataframe tbody tr th:only-of-type {\n",
       "        vertical-align: middle;\n",
       "    }\n",
       "\n",
       "    .dataframe tbody tr th {\n",
       "        vertical-align: top;\n",
       "    }\n",
       "\n",
       "    .dataframe thead th {\n",
       "        text-align: right;\n",
       "    }\n",
       "</style>\n",
       "<table border=\"1\" class=\"dataframe\">\n",
       "  <thead>\n",
       "    <tr style=\"text-align: right;\">\n",
       "      <th></th>\n",
       "      <th>yearpublished</th>\n",
       "      <th>minplayers</th>\n",
       "      <th>maxplayers</th>\n",
       "      <th>playingtime</th>\n",
       "      <th>minplaytime</th>\n",
       "      <th>maxplaytime</th>\n",
       "      <th>minage</th>\n",
       "      <th>users_rated</th>\n",
       "      <th>average_rating</th>\n",
       "      <th>bayes_average_rating</th>\n",
       "      <th>total_owners</th>\n",
       "      <th>total_traders</th>\n",
       "      <th>total_wanters</th>\n",
       "      <th>total_wishers</th>\n",
       "      <th>total_comments</th>\n",
       "      <th>total_weights</th>\n",
       "      <th>average_weight</th>\n",
       "    </tr>\n",
       "  </thead>\n",
       "  <tbody>\n",
       "    <tr>\n",
       "      <th>count</th>\n",
       "      <td>2476.000000</td>\n",
       "      <td>2476.000000</td>\n",
       "      <td>2476.000000</td>\n",
       "      <td>2476.000000</td>\n",
       "      <td>2476.000000</td>\n",
       "      <td>2476.000000</td>\n",
       "      <td>2476.000000</td>\n",
       "      <td>2476.000000</td>\n",
       "      <td>2476.000000</td>\n",
       "      <td>2476.000000</td>\n",
       "      <td>2476.000000</td>\n",
       "      <td>2476.000000</td>\n",
       "      <td>2476.000000</td>\n",
       "      <td>2476.000000</td>\n",
       "      <td>2476.000000</td>\n",
       "      <td>2476.000000</td>\n",
       "      <td>2476.000000</td>\n",
       "    </tr>\n",
       "    <tr>\n",
       "      <th>mean</th>\n",
       "      <td>2001.924071</td>\n",
       "      <td>2.092892</td>\n",
       "      <td>5.385299</td>\n",
       "      <td>106.836834</td>\n",
       "      <td>96.197496</td>\n",
       "      <td>106.836834</td>\n",
       "      <td>11.127221</td>\n",
       "      <td>2025.425283</td>\n",
       "      <td>6.918870</td>\n",
       "      <td>5.273624</td>\n",
       "      <td>2826.556947</td>\n",
       "      <td>83.313005</td>\n",
       "      <td>139.776252</td>\n",
       "      <td>496.407108</td>\n",
       "      <td>565.356220</td>\n",
       "      <td>201.949919</td>\n",
       "      <td>2.414379</td>\n",
       "    </tr>\n",
       "    <tr>\n",
       "      <th>std</th>\n",
       "      <td>9.645677</td>\n",
       "      <td>0.663214</td>\n",
       "      <td>6.310051</td>\n",
       "      <td>312.527785</td>\n",
       "      <td>192.531309</td>\n",
       "      <td>312.527785</td>\n",
       "      <td>1.935205</td>\n",
       "      <td>4090.650247</td>\n",
       "      <td>1.076518</td>\n",
       "      <td>2.484213</td>\n",
       "      <td>5183.502974</td>\n",
       "      <td>120.369395</td>\n",
       "      <td>198.195800</td>\n",
       "      <td>819.415420</td>\n",
       "      <td>972.826923</td>\n",
       "      <td>417.002445</td>\n",
       "      <td>1.027195</td>\n",
       "    </tr>\n",
       "    <tr>\n",
       "      <th>min</th>\n",
       "      <td>1961.000000</td>\n",
       "      <td>1.000000</td>\n",
       "      <td>1.000000</td>\n",
       "      <td>0.000000</td>\n",
       "      <td>0.000000</td>\n",
       "      <td>0.000000</td>\n",
       "      <td>4.000000</td>\n",
       "      <td>0.000000</td>\n",
       "      <td>0.000000</td>\n",
       "      <td>0.000000</td>\n",
       "      <td>0.000000</td>\n",
       "      <td>0.000000</td>\n",
       "      <td>0.000000</td>\n",
       "      <td>0.000000</td>\n",
       "      <td>0.000000</td>\n",
       "      <td>0.000000</td>\n",
       "      <td>0.000000</td>\n",
       "    </tr>\n",
       "    <tr>\n",
       "      <th>25%</th>\n",
       "      <td>1997.000000</td>\n",
       "      <td>2.000000</td>\n",
       "      <td>4.000000</td>\n",
       "      <td>45.000000</td>\n",
       "      <td>30.000000</td>\n",
       "      <td>45.000000</td>\n",
       "      <td>10.000000</td>\n",
       "      <td>71.000000</td>\n",
       "      <td>6.662595</td>\n",
       "      <td>5.609348</td>\n",
       "      <td>230.750000</td>\n",
       "      <td>8.000000</td>\n",
       "      <td>11.000000</td>\n",
       "      <td>18.000000</td>\n",
       "      <td>30.000000</td>\n",
       "      <td>9.000000</td>\n",
       "      <td>1.855700</td>\n",
       "    </tr>\n",
       "    <tr>\n",
       "      <th>50%</th>\n",
       "      <td>2004.000000</td>\n",
       "      <td>2.000000</td>\n",
       "      <td>5.000000</td>\n",
       "      <td>60.000000</td>\n",
       "      <td>60.000000</td>\n",
       "      <td>60.000000</td>\n",
       "      <td>12.000000</td>\n",
       "      <td>756.500000</td>\n",
       "      <td>7.027270</td>\n",
       "      <td>6.237995</td>\n",
       "      <td>1381.500000</td>\n",
       "      <td>42.000000</td>\n",
       "      <td>72.000000</td>\n",
       "      <td>206.000000</td>\n",
       "      <td>250.500000</td>\n",
       "      <td>78.000000</td>\n",
       "      <td>2.442800</td>\n",
       "    </tr>\n",
       "    <tr>\n",
       "      <th>75%</th>\n",
       "      <td>2009.000000</td>\n",
       "      <td>2.000000</td>\n",
       "      <td>6.000000</td>\n",
       "      <td>120.000000</td>\n",
       "      <td>120.000000</td>\n",
       "      <td>120.000000</td>\n",
       "      <td>12.000000</td>\n",
       "      <td>2106.500000</td>\n",
       "      <td>7.430040</td>\n",
       "      <td>6.619467</td>\n",
       "      <td>2988.750000</td>\n",
       "      <td>110.000000</td>\n",
       "      <td>171.250000</td>\n",
       "      <td>573.250000</td>\n",
       "      <td>669.500000</td>\n",
       "      <td>210.250000</td>\n",
       "      <td>3.036875</td>\n",
       "    </tr>\n",
       "    <tr>\n",
       "      <th>max</th>\n",
       "      <td>2015.000000</td>\n",
       "      <td>10.000000</td>\n",
       "      <td>100.000000</td>\n",
       "      <td>12000.000000</td>\n",
       "      <td>6000.000000</td>\n",
       "      <td>12000.000000</td>\n",
       "      <td>18.000000</td>\n",
       "      <td>53680.000000</td>\n",
       "      <td>9.000000</td>\n",
       "      <td>8.221860</td>\n",
       "      <td>73188.000000</td>\n",
       "      <td>1162.000000</td>\n",
       "      <td>1586.000000</td>\n",
       "      <td>6402.000000</td>\n",
       "      <td>11798.000000</td>\n",
       "      <td>5996.000000</td>\n",
       "      <td>5.000000</td>\n",
       "    </tr>\n",
       "  </tbody>\n",
       "</table>\n",
       "</div>"
      ],
      "text/plain": [
       "       yearpublished   minplayers   maxplayers   playingtime  minplaytime  \\\n",
       "count    2476.000000  2476.000000  2476.000000   2476.000000  2476.000000   \n",
       "mean     2001.924071     2.092892     5.385299    106.836834    96.197496   \n",
       "std         9.645677     0.663214     6.310051    312.527785   192.531309   \n",
       "min      1961.000000     1.000000     1.000000      0.000000     0.000000   \n",
       "25%      1997.000000     2.000000     4.000000     45.000000    30.000000   \n",
       "50%      2004.000000     2.000000     5.000000     60.000000    60.000000   \n",
       "75%      2009.000000     2.000000     6.000000    120.000000   120.000000   \n",
       "max      2015.000000    10.000000   100.000000  12000.000000  6000.000000   \n",
       "\n",
       "        maxplaytime       minage   users_rated  average_rating  \\\n",
       "count   2476.000000  2476.000000   2476.000000     2476.000000   \n",
       "mean     106.836834    11.127221   2025.425283        6.918870   \n",
       "std      312.527785     1.935205   4090.650247        1.076518   \n",
       "min        0.000000     4.000000      0.000000        0.000000   \n",
       "25%       45.000000    10.000000     71.000000        6.662595   \n",
       "50%       60.000000    12.000000    756.500000        7.027270   \n",
       "75%      120.000000    12.000000   2106.500000        7.430040   \n",
       "max    12000.000000    18.000000  53680.000000        9.000000   \n",
       "\n",
       "       bayes_average_rating  total_owners  total_traders  total_wanters  \\\n",
       "count           2476.000000   2476.000000    2476.000000    2476.000000   \n",
       "mean               5.273624   2826.556947      83.313005     139.776252   \n",
       "std                2.484213   5183.502974     120.369395     198.195800   \n",
       "min                0.000000      0.000000       0.000000       0.000000   \n",
       "25%                5.609348    230.750000       8.000000      11.000000   \n",
       "50%                6.237995   1381.500000      42.000000      72.000000   \n",
       "75%                6.619467   2988.750000     110.000000     171.250000   \n",
       "max                8.221860  73188.000000    1162.000000    1586.000000   \n",
       "\n",
       "       total_wishers  total_comments  total_weights  average_weight  \n",
       "count    2476.000000     2476.000000    2476.000000     2476.000000  \n",
       "mean      496.407108      565.356220     201.949919        2.414379  \n",
       "std       819.415420      972.826923     417.002445        1.027195  \n",
       "min         0.000000        0.000000       0.000000        0.000000  \n",
       "25%        18.000000       30.000000       9.000000        1.855700  \n",
       "50%       206.000000      250.500000      78.000000        2.442800  \n",
       "75%       573.250000      669.500000     210.250000        3.036875  \n",
       "max      6402.000000    11798.000000    5996.000000        5.000000  "
      ]
     },
     "execution_count": 33,
     "metadata": {},
     "output_type": "execute_result"
    }
   ],
   "source": [
    "df5.describe()"
   ]
  },
  {
   "cell_type": "code",
   "execution_count": 34,
   "metadata": {},
   "outputs": [],
   "source": [
    "import seaborn as sns\n",
    "import matplotlib.pyplot as plt"
   ]
  },
  {
   "cell_type": "code",
   "execution_count": 35,
   "metadata": {},
   "outputs": [
    {
     "data": {
      "text/plain": [
       "<matplotlib.axes._subplots.AxesSubplot at 0x2433ceac2b0>"
      ]
     },
     "execution_count": 35,
     "metadata": {},
     "output_type": "execute_result"
    },
    {
     "data": {
      "image/png": "[encoded data removed]",
      "text/plain": [
       "<matplotlib.figure.Figure at 0x2433ce9dcc0>"
      ]
     },
     "metadata": {},
     "output_type": "display_data"
    }
   ],
   "source": [
    "df5.plot(kind=\"scatter\", x=\"average_rating\", y=\"bayes_average_rating\",xlim=(4,10),ylim=(2,10))"
   ]
  },
  {
   "cell_type": "raw",
   "metadata": {},
   "source": [
    "# Average rating and bayes average rating not much correlated to each other but not highly correlated to each other ."
   ]
  },
  {
   "cell_type": "code",
   "execution_count": 36,
   "metadata": {},
   "outputs": [
    {
     "data": {
      "text/plain": [
       "<matplotlib.axes._subplots.AxesSubplot at 0x2433cf91630>"
      ]
     },
     "execution_count": 36,
     "metadata": {},
     "output_type": "execute_result"
    },
    {
     "data": {
      "image/png": "[encoded data removed]",
      "text/plain": [
       "<matplotlib.figure.Figure at 0x2433d09b860>"
      ]
     },
     "metadata": {},
     "output_type": "display_data"
    }
   ],
   "source": [
    "df5.plot(kind=\"scatter\", x=\"average_rating\", y=\"average_weight\",xlim=(4,10))"
   ]
  },
  {
   "cell_type": "markdown",
   "metadata": {},
   "source": [
    " Average  rating is not vary much as it varies between 6 to 8 for most of the cases but average weight vary from 1 to 5 So , variation is more in average weight compare to average rating "
   ]
  },
  {
   "cell_type": "code",
   "execution_count": 139,
   "metadata": {},
   "outputs": [
    {
     "data": {
      "text/plain": [
       "<matplotlib.axes._subplots.AxesSubplot at 0x1806a737c18>"
      ]
     },
     "execution_count": 139,
     "metadata": {},
     "output_type": "execute_result"
    },
    {
     "data": {
      "image/png": "[encoded data removed]",
      "text/plain": [
       "<matplotlib.figure.Figure at 0x1806a749668>"
      ]
     },
     "metadata": {},
     "output_type": "display_data"
    }
   ],
   "source": [
    "df5.plot(kind=\"scatter\", x=\"playingtime\", y=\"users_rated\",xlim=())"
   ]
  },
  {
   "cell_type": "markdown",
   "metadata": {},
   "source": [
    " Data is not correlated between playingtime and user rated "
   ]
  },
  {
   "cell_type": "code",
   "execution_count": 37,
   "metadata": {},
   "outputs": [
    {
     "data": {
      "text/plain": [
       "boardgame             1429\n",
       "boardgameexpansion    1047\n",
       "Name: type, dtype: int64"
      ]
     },
     "execution_count": 37,
     "metadata": {},
     "output_type": "execute_result"
    }
   ],
   "source": [
    "df5.type.value_counts()"
   ]
  },
  {
   "cell_type": "code",
   "execution_count": 141,
   "metadata": {},
   "outputs": [],
   "source": [
    "correlation = df5.corr(method='pearson')"
   ]
  },
  {
   "cell_type": "code",
   "execution_count": 38,
   "metadata": {},
   "outputs": [
    {
     "name": "stdout",
     "output_type": "stream",
     "text": [
      "                playingtime  total_comments\n",
      "playingtime        1.000000       -0.010367\n",
      "total_comments    -0.010367        1.000000\n"
     ]
    }
   ],
   "source": [
    "print(correlation)"
   ]
  },
  {
   "cell_type": "code",
   "execution_count": 144,
   "metadata": {},
   "outputs": [
    {
     "data": {
      "image/png": "[encoded data removed]",
      "text/plain": [
       "<matplotlib.figure.Figure at 0x1806af3d160>"
      ]
     },
     "metadata": {},
     "output_type": "display_data"
    }
   ],
   "source": [
    "cols = ['total_owners', 'users_rated', 'total_weights', 'total_comments']\n",
    "pp = sns.pairplot(df5[cols], size=1.8, aspect=1.8,\n",
    "                  plot_kws=dict(edgecolor=\"k\", linewidth=0.5),\n",
    "                  diag_kind=\"kde\", diag_kws=dict(shade=True))\n",
    "\n",
    "fig = pp.fig \n",
    "fig.subplots_adjust(top=0.93, wspace=0.3)\n",
    "t = fig.suptitle('Total Owners, Users rated, Total weights and Total comments Pairwise Plots', fontsize=12)"
   ]
  },
  {
   "cell_type": "markdown",
   "metadata": {},
   "source": [
    " Total Owners, Users rated, Total weights and Total comments are correlated to each other but indiviually they are right skewed it shows that data is not normal."
   ]
  },
  {
   "cell_type": "code",
   "execution_count": 39,
   "metadata": {},
   "outputs": [
    {
     "data": {
      "text/plain": [
       "<matplotlib.axes._subplots.AxesSubplot at 0x2433caada20>"
      ]
     },
     "execution_count": 39,
     "metadata": {},
     "output_type": "execute_result"
    },
    {
     "data": {
      "image/png": "[encoded data removed]",
      "text/plain": [
       "<matplotlib.figure.Figure at 0x2433d093d68>"
      ]
     },
     "metadata": {},
     "output_type": "display_data"
    }
   ],
   "source": [
    "sns.stripplot(df5['type'], df5['playingtime'])"
   ]
  },
  {
   "cell_type": "markdown",
   "metadata": {},
   "source": [
    " Variation is more in the broadgame compare to the broadgameexpansion"
   ]
  },
  {
   "cell_type": "code",
   "execution_count": 40,
   "metadata": {},
   "outputs": [
    {
     "data": {
      "text/plain": [
       "<matplotlib.axes._subplots.AxesSubplot at 0x2433cff36a0>"
      ]
     },
     "execution_count": 40,
     "metadata": {},
     "output_type": "execute_result"
    },
    {
     "data": {
      "image/png": "[encoded data removed]",
      "text/plain": [
       "<matplotlib.figure.Figure at 0x2433cd42a90>"
      ]
     },
     "metadata": {},
     "output_type": "display_data"
    }
   ],
   "source": [
    "sns.stripplot(df5['type'], df5['playingtime'],jitter=True)"
   ]
  },
  {
   "cell_type": "code",
   "execution_count": null,
   "metadata": {},
   "outputs": [],
   "source": [
    "# There is more variation in the broadgame."
   ]
  },
  {
   "cell_type": "code",
   "execution_count": 71,
   "metadata": {},
   "outputs": [
    {
     "data": {
      "text/plain": [
       "Text(0.5,1,'Maximum number Players for all different types of gmaes')"
      ]
     },
     "execution_count": 71,
     "metadata": {},
     "output_type": "execute_result"
    },
    {
     "data": {
      "image/png": "[encoded data removed]",
      "text/plain": [
       "<matplotlib.figure.Figure at 0x2433d069a90>"
      ]
     },
     "metadata": {},
     "output_type": "display_data"
    }
   ],
   "source": [
    "import matplotlib.pyplot as plt\n",
    "import seaborn as sns\n",
    "sns.set(color_codes=True)\n",
    "sns.countplot(df5['maxplayers'])\n",
    "plt.title('Maximum number Players for all different types of gmaes')"
   ]
  },
  {
   "cell_type": "markdown",
   "metadata": {},
   "source": [
    "In most of the games maximum number of players is between 2 and 6. Also there are games with maximum\n",
    "number of players upto 100."
   ]
  },
  {
   "cell_type": "code",
   "execution_count": 75,
   "metadata": {},
   "outputs": [
    {
     "data": {
      "text/plain": [
       "Text(0,0.5,'Probability Distribution ')"
      ]
     },
     "execution_count": 75,
     "metadata": {},
     "output_type": "execute_result"
    },
    {
     "data": {
      "image/png": "[encoded data removed]",
      "text/plain": [
       "<matplotlib.figure.Figure at 0x2433d24c0b8>"
      ]
     },
     "metadata": {},
     "output_type": "display_data"
    }
   ],
   "source": [
    "sns.distplot(df5['playingtime'])\n",
    "plt.title('Playing Time Distribution')\n",
    "plt.xlabel('Playing time')\n",
    "plt.ylabel('Probability Distribution ')"
   ]
  },
  {
   "cell_type": "markdown",
   "metadata": {},
   "source": [
    "Playing time is not normal and it is right skewed due to presence of outliers"
   ]
  },
  {
   "cell_type": "code",
   "execution_count": 81,
   "metadata": {},
   "outputs": [
    {
     "data": {
      "text/plain": [
       "<matplotlib.axes._subplots.AxesSubplot at 0x2433d56da20>"
      ]
     },
     "execution_count": 81,
     "metadata": {},
     "output_type": "execute_result"
    },
    {
     "data": {
      "image/png": "[encoded data removed]",
      "text/plain": [
       "<matplotlib.figure.Figure at 0x2433d536390>"
      ]
     },
     "metadata": {},
     "output_type": "display_data"
    }
   ],
   "source": [
    "sns.boxplot(df5['playingtime'],hue=df.type,orient=\"v\")"
   ]
  },
  {
   "cell_type": "markdown",
   "metadata": {},
   "source": [
    "From the box plot it is clear that for most of the data points are around mean and median and there are some outliers at 12000 and 6000 . "
   ]
  },
  {
   "cell_type": "markdown",
   "metadata": {},
   "source": [
    "From the existing dataset 2665 observation is there after considering the valid and with supporting resaons it cames around the 2476. There fore total no of outlier is 189 with valid reason and support.So, my df5 contain the 2476 nos. of observation."
   ]
  },
  {
   "cell_type": "code",
   "execution_count": 85,
   "metadata": {},
   "outputs": [
    {
     "data": {
      "text/plain": [
       "Text(0.5,1,'Count plot for board games and board game expansions')"
      ]
     },
     "execution_count": 85,
     "metadata": {},
     "output_type": "execute_result"
    },
    {
     "data": {
      "image/png": "[encoded data removed]",
      "text/plain": [
       "<matplotlib.figure.Figure at 0x2433ce34a20>"
      ]
     },
     "metadata": {},
     "output_type": "display_data"
    }
   ],
   "source": [
    "sns.countplot(df5['type'])\n",
    "plt.title('Count plot for board games and board game expansions')\n"
   ]
  },
  {
   "cell_type": "code",
   "execution_count": 86,
   "metadata": {},
   "outputs": [
    {
     "data": {
      "text/plain": [
       "boardgame             1429\n",
       "boardgameexpansion    1047\n",
       "Name: type, dtype: int64"
      ]
     },
     "execution_count": 86,
     "metadata": {},
     "output_type": "execute_result"
    }
   ],
   "source": [
    "df5.type.value_counts()"
   ]
  },
  {
   "cell_type": "code",
   "execution_count": 88,
   "metadata": {},
   "outputs": [
    {
     "data": {
      "text/plain": [
       "Text(0.5,1,'Top Rated Games')"
      ]
     },
     "execution_count": 88,
     "metadata": {},
     "output_type": "execute_result"
    },
    {
     "data": {
      "image/png": "[encoded data removed]",
      "text/plain": [
       "<matplotlib.figure.Figure at 0x2433d2a3f98>"
      ]
     },
     "metadata": {},
     "output_type": "display_data"
    }
   ],
   "source": [
    "df5.sort_values(\"average_rating\", ascending=False).head(5).plot('name','average_rating',kind='bar')\n",
    "plt.title('Top Rated Games')"
   ]
  },
  {
   "cell_type": "markdown",
   "metadata": {},
   "source": [
    "Top rated game is Piglings Revenge, PigWars Expansion Module 1, followed by Victory By Any Means:\n",
    "Campaign Moderator's Companion  Summoner Wars: Alliances Master Set , Victor of the Guards and Far king and Country"
   ]
  },
  {
   "cell_type": "code",
   "execution_count": 90,
   "metadata": {},
   "outputs": [
    {
     "data": {
      "text/plain": [
       "Text(0.5,1,'Number of games released in each year')"
      ]
     },
     "execution_count": 90,
     "metadata": {},
     "output_type": "execute_result"
    },
    {
     "data": {
      "image/png": "[encoded data removed]",
      "text/plain": [
       "<matplotlib.figure.Figure at 0x2433f60a4e0>"
      ]
     },
     "metadata": {},
     "output_type": "display_data"
    }
   ],
   "source": [
    "df5.yearpublished.value_counts().head(5).plot(kind='bar')\n",
    "plt.title('Number of games released in each year')"
   ]
  },
  {
   "cell_type": "markdown",
   "metadata": {},
   "source": [
    "Number of games published is hieghest in the year 2005 followed by 2004 and 2012"
   ]
  },
  {
   "cell_type": "code",
   "execution_count": 96,
   "metadata": {},
   "outputs": [
    {
     "data": {
      "text/plain": [
       "Text(0.5,1,'number of owners ')"
      ]
     },
     "execution_count": 96,
     "metadata": {},
     "output_type": "execute_result"
    },
    {
     "data": {
      "image/png": "[encoded data removed]",
      "text/plain": [
       "<matplotlib.figure.Figure at 0x2433f1fc160>"
      ]
     },
     "metadata": {},
     "output_type": "display_data"
    }
   ],
   "source": [
    "df5.sort_values(\"total_owners\", ascending=False).head(3).plot('name','total_owners',kind='bar')\n",
    "plt.title('number of owners ')"
   ]
  },
  {
   "cell_type": "markdown",
   "metadata": {},
   "source": [
    "While checking the top three owners, it is found that top owned game is Catan followed by\n",
    "Carcassonne and Pandemic."
   ]
  },
  {
   "cell_type": "code",
   "execution_count": 98,
   "metadata": {},
   "outputs": [
    {
     "data": {
      "text/plain": [
       "Text(0.5,1,'Minimum age of playing game')"
      ]
     },
     "execution_count": 98,
     "metadata": {},
     "output_type": "execute_result"
    },
    {
     "data": {
      "image/png": "[encoded data removed]",
      "text/plain": [
       "<matplotlib.figure.Figure at 0x2433ed41e10>"
      ]
     },
     "metadata": {},
     "output_type": "display_data"
    }
   ],
   "source": [
    "sns.countplot(df5['minage'])\n",
    "plt.title('Minimum age of playing game')"
   ]
  },
  {
   "cell_type": "markdown",
   "metadata": {},
   "source": [
    "For most of the games minmum age required for playing game is 12 followed by 10 and it varies from 4 to 18 years "
   ]
  },
  {
   "cell_type": "markdown",
   "metadata": {},
   "source": [
    "# Insnight from the Visualization "
   ]
  },
  {
   "cell_type": "markdown",
   "metadata": {},
   "source": [
    "* Variation is more in the broadgame compare to the broadgameexpansion when it is compare with playing time.\n",
    "* Average rating is not vary much as it varies between 6 to 8 for most of the cases but average weight vary from 1 to 5 So , variation is more in average weight compare to average rating\n",
    "*  Total Owners, Users rated, Total weights and Total comments are correlated to each other but indiviually they are right skewed it shows that data is not normal.\n",
    "* Data is not correlated between playingtime and user rated/\n",
    "* Playing time is not normal and it is right skewed due to presence of outliers.\n",
    "* The number of board games are higher than boargames expansion.\n",
    "* Number of games published is hieghest in the year 2005 followed by 2004 and 2012.\n",
    "* While checking the top three owners, it is found that top owned game is Catan followed by Carcassonne and Pandemic.\n",
    "* For most of the games minmum age required for playing game is 12 followed by 10 and it varies from 4 to 18 years."
   ]
  },
  {
   "cell_type": "markdown",
   "metadata": {},
   "source": [
    "# Going for Hypothesis testing\n",
    "Here the problem is whether the amount of time gamers spend for each game type is same or not\n",
    "Null Hypothesis, H0 = Amount of time spend in each game type is same\n",
    "Alternate Hypothesis, HA = Amount of time spend in each game type is different"
   ]
  },
  {
   "cell_type": "markdown",
   "metadata": {},
   "source": [
    "Making two groups to do the further analysis"
   ]
  },
  {
   "cell_type": "code",
   "execution_count": 46,
   "metadata": {},
   "outputs": [],
   "source": [
    "boardgames=df5[df5['type'] == 'boardgame']\n",
    "boardgamesexp=df5[df5['type'] == 'boardgameexpansion']\n"
   ]
  },
  {
   "cell_type": "code",
   "execution_count": 48,
   "metadata": {},
   "outputs": [
    {
     "data": {
      "text/html": [
       "<div>\n",
       "<style scoped>\n",
       "    .dataframe tbody tr th:only-of-type {\n",
       "        vertical-align: middle;\n",
       "    }\n",
       "\n",
       "    .dataframe tbody tr th {\n",
       "        vertical-align: top;\n",
       "    }\n",
       "\n",
       "    .dataframe thead th {\n",
       "        text-align: right;\n",
       "    }\n",
       "</style>\n",
       "<table border=\"1\" class=\"dataframe\">\n",
       "  <thead>\n",
       "    <tr style=\"text-align: right;\">\n",
       "      <th></th>\n",
       "      <th>yearpublished</th>\n",
       "      <th>minplayers</th>\n",
       "      <th>maxplayers</th>\n",
       "      <th>playingtime</th>\n",
       "      <th>minplaytime</th>\n",
       "      <th>maxplaytime</th>\n",
       "      <th>minage</th>\n",
       "      <th>users_rated</th>\n",
       "      <th>average_rating</th>\n",
       "      <th>bayes_average_rating</th>\n",
       "      <th>total_owners</th>\n",
       "      <th>total_traders</th>\n",
       "      <th>total_wanters</th>\n",
       "      <th>total_wishers</th>\n",
       "      <th>total_comments</th>\n",
       "      <th>total_weights</th>\n",
       "      <th>average_weight</th>\n",
       "    </tr>\n",
       "  </thead>\n",
       "  <tbody>\n",
       "    <tr>\n",
       "      <th>count</th>\n",
       "      <td>1429.000000</td>\n",
       "      <td>1429.000000</td>\n",
       "      <td>1429.000000</td>\n",
       "      <td>1429.000000</td>\n",
       "      <td>1429.000000</td>\n",
       "      <td>1429.000000</td>\n",
       "      <td>1429.000000</td>\n",
       "      <td>1429.000000</td>\n",
       "      <td>1429.000000</td>\n",
       "      <td>1429.000000</td>\n",
       "      <td>1429.000000</td>\n",
       "      <td>1429.000000</td>\n",
       "      <td>1429.000000</td>\n",
       "      <td>1429.000000</td>\n",
       "      <td>1429.000000</td>\n",
       "      <td>1429.000000</td>\n",
       "      <td>1429.000000</td>\n",
       "    </tr>\n",
       "    <tr>\n",
       "      <th>mean</th>\n",
       "      <td>2005.603219</td>\n",
       "      <td>2.077677</td>\n",
       "      <td>4.944017</td>\n",
       "      <td>107.156753</td>\n",
       "      <td>89.019594</td>\n",
       "      <td>107.156753</td>\n",
       "      <td>11.051784</td>\n",
       "      <td>3308.966410</td>\n",
       "      <td>7.160569</td>\n",
       "      <td>6.624113</td>\n",
       "      <td>4404.177047</td>\n",
       "      <td>131.339398</td>\n",
       "      <td>226.877537</td>\n",
       "      <td>831.265220</td>\n",
       "      <td>915.498950</td>\n",
       "      <td>329.375787</td>\n",
       "      <td>2.491457</td>\n",
       "    </tr>\n",
       "    <tr>\n",
       "      <th>std</th>\n",
       "      <td>8.868477</td>\n",
       "      <td>0.665463</td>\n",
       "      <td>5.232114</td>\n",
       "      <td>403.187846</td>\n",
       "      <td>239.533863</td>\n",
       "      <td>403.187846</td>\n",
       "      <td>2.099114</td>\n",
       "      <td>4944.531744</td>\n",
       "      <td>0.446263</td>\n",
       "      <td>0.425613</td>\n",
       "      <td>6165.457191</td>\n",
       "      <td>137.044035</td>\n",
       "      <td>221.937492</td>\n",
       "      <td>945.260789</td>\n",
       "      <td>1141.290681</td>\n",
       "      <td>507.152204</td>\n",
       "      <td>0.746451</td>\n",
       "    </tr>\n",
       "    <tr>\n",
       "      <th>min</th>\n",
       "      <td>1962.000000</td>\n",
       "      <td>1.000000</td>\n",
       "      <td>1.000000</td>\n",
       "      <td>0.000000</td>\n",
       "      <td>0.000000</td>\n",
       "      <td>0.000000</td>\n",
       "      <td>4.000000</td>\n",
       "      <td>240.000000</td>\n",
       "      <td>6.269030</td>\n",
       "      <td>6.108880</td>\n",
       "      <td>230.000000</td>\n",
       "      <td>1.000000</td>\n",
       "      <td>6.000000</td>\n",
       "      <td>39.000000</td>\n",
       "      <td>58.000000</td>\n",
       "      <td>14.000000</td>\n",
       "      <td>1.000000</td>\n",
       "    </tr>\n",
       "    <tr>\n",
       "      <th>25%</th>\n",
       "      <td>2003.000000</td>\n",
       "      <td>2.000000</td>\n",
       "      <td>4.000000</td>\n",
       "      <td>45.000000</td>\n",
       "      <td>30.000000</td>\n",
       "      <td>45.000000</td>\n",
       "      <td>10.000000</td>\n",
       "      <td>897.000000</td>\n",
       "      <td>6.824090</td>\n",
       "      <td>6.277960</td>\n",
       "      <td>1475.000000</td>\n",
       "      <td>45.000000</td>\n",
       "      <td>85.000000</td>\n",
       "      <td>267.000000</td>\n",
       "      <td>296.000000</td>\n",
       "      <td>91.000000</td>\n",
       "      <td>1.956300</td>\n",
       "    </tr>\n",
       "    <tr>\n",
       "      <th>50%</th>\n",
       "      <td>2008.000000</td>\n",
       "      <td>2.000000</td>\n",
       "      <td>4.000000</td>\n",
       "      <td>60.000000</td>\n",
       "      <td>60.000000</td>\n",
       "      <td>60.000000</td>\n",
       "      <td>12.000000</td>\n",
       "      <td>1687.000000</td>\n",
       "      <td>7.100930</td>\n",
       "      <td>6.512530</td>\n",
       "      <td>2485.000000</td>\n",
       "      <td>89.000000</td>\n",
       "      <td>150.000000</td>\n",
       "      <td>490.000000</td>\n",
       "      <td>545.000000</td>\n",
       "      <td>178.000000</td>\n",
       "      <td>2.472200</td>\n",
       "    </tr>\n",
       "    <tr>\n",
       "      <th>75%</th>\n",
       "      <td>2012.000000</td>\n",
       "      <td>2.000000</td>\n",
       "      <td>5.000000</td>\n",
       "      <td>120.000000</td>\n",
       "      <td>90.000000</td>\n",
       "      <td>120.000000</td>\n",
       "      <td>12.000000</td>\n",
       "      <td>3565.000000</td>\n",
       "      <td>7.464400</td>\n",
       "      <td>6.901530</td>\n",
       "      <td>4747.000000</td>\n",
       "      <td>168.000000</td>\n",
       "      <td>289.000000</td>\n",
       "      <td>980.000000</td>\n",
       "      <td>1066.000000</td>\n",
       "      <td>354.000000</td>\n",
       "      <td>3.021400</td>\n",
       "    </tr>\n",
       "    <tr>\n",
       "      <th>max</th>\n",
       "      <td>2015.000000</td>\n",
       "      <td>8.000000</td>\n",
       "      <td>99.000000</td>\n",
       "      <td>12000.000000</td>\n",
       "      <td>6000.000000</td>\n",
       "      <td>12000.000000</td>\n",
       "      <td>17.000000</td>\n",
       "      <td>53680.000000</td>\n",
       "      <td>8.759750</td>\n",
       "      <td>8.221860</td>\n",
       "      <td>73188.000000</td>\n",
       "      <td>1162.000000</td>\n",
       "      <td>1586.000000</td>\n",
       "      <td>6402.000000</td>\n",
       "      <td>11798.000000</td>\n",
       "      <td>5996.000000</td>\n",
       "      <td>4.676300</td>\n",
       "    </tr>\n",
       "  </tbody>\n",
       "</table>\n",
       "</div>"
      ],
      "text/plain": [
       "       yearpublished   minplayers   maxplayers   playingtime  minplaytime  \\\n",
       "count    1429.000000  1429.000000  1429.000000   1429.000000  1429.000000   \n",
       "mean     2005.603219     2.077677     4.944017    107.156753    89.019594   \n",
       "std         8.868477     0.665463     5.232114    403.187846   239.533863   \n",
       "min      1962.000000     1.000000     1.000000      0.000000     0.000000   \n",
       "25%      2003.000000     2.000000     4.000000     45.000000    30.000000   \n",
       "50%      2008.000000     2.000000     4.000000     60.000000    60.000000   \n",
       "75%      2012.000000     2.000000     5.000000    120.000000    90.000000   \n",
       "max      2015.000000     8.000000    99.000000  12000.000000  6000.000000   \n",
       "\n",
       "        maxplaytime       minage   users_rated  average_rating  \\\n",
       "count   1429.000000  1429.000000   1429.000000     1429.000000   \n",
       "mean     107.156753    11.051784   3308.966410        7.160569   \n",
       "std      403.187846     2.099114   4944.531744        0.446263   \n",
       "min        0.000000     4.000000    240.000000        6.269030   \n",
       "25%       45.000000    10.000000    897.000000        6.824090   \n",
       "50%       60.000000    12.000000   1687.000000        7.100930   \n",
       "75%      120.000000    12.000000   3565.000000        7.464400   \n",
       "max    12000.000000    17.000000  53680.000000        8.759750   \n",
       "\n",
       "       bayes_average_rating  total_owners  total_traders  total_wanters  \\\n",
       "count           1429.000000   1429.000000    1429.000000    1429.000000   \n",
       "mean               6.624113   4404.177047     131.339398     226.877537   \n",
       "std                0.425613   6165.457191     137.044035     221.937492   \n",
       "min                6.108880    230.000000       1.000000       6.000000   \n",
       "25%                6.277960   1475.000000      45.000000      85.000000   \n",
       "50%                6.512530   2485.000000      89.000000     150.000000   \n",
       "75%                6.901530   4747.000000     168.000000     289.000000   \n",
       "max                8.221860  73188.000000    1162.000000    1586.000000   \n",
       "\n",
       "       total_wishers  total_comments  total_weights  average_weight  \n",
       "count    1429.000000     1429.000000    1429.000000     1429.000000  \n",
       "mean      831.265220      915.498950     329.375787        2.491457  \n",
       "std       945.260789     1141.290681     507.152204        0.746451  \n",
       "min        39.000000       58.000000      14.000000        1.000000  \n",
       "25%       267.000000      296.000000      91.000000        1.956300  \n",
       "50%       490.000000      545.000000     178.000000        2.472200  \n",
       "75%       980.000000     1066.000000     354.000000        3.021400  \n",
       "max      6402.000000    11798.000000    5996.000000        4.676300  "
      ]
     },
     "execution_count": 48,
     "metadata": {},
     "output_type": "execute_result"
    }
   ],
   "source": [
    "boardgames.describe()"
   ]
  },
  {
   "cell_type": "code",
   "execution_count": 49,
   "metadata": {},
   "outputs": [
    {
     "data": {
      "text/html": [
       "<div>\n",
       "<style scoped>\n",
       "    .dataframe tbody tr th:only-of-type {\n",
       "        vertical-align: middle;\n",
       "    }\n",
       "\n",
       "    .dataframe tbody tr th {\n",
       "        vertical-align: top;\n",
       "    }\n",
       "\n",
       "    .dataframe thead th {\n",
       "        text-align: right;\n",
       "    }\n",
       "</style>\n",
       "<table border=\"1\" class=\"dataframe\">\n",
       "  <thead>\n",
       "    <tr style=\"text-align: right;\">\n",
       "      <th></th>\n",
       "      <th>yearpublished</th>\n",
       "      <th>minplayers</th>\n",
       "      <th>maxplayers</th>\n",
       "      <th>playingtime</th>\n",
       "      <th>minplaytime</th>\n",
       "      <th>maxplaytime</th>\n",
       "      <th>minage</th>\n",
       "      <th>users_rated</th>\n",
       "      <th>average_rating</th>\n",
       "      <th>bayes_average_rating</th>\n",
       "      <th>total_owners</th>\n",
       "      <th>total_traders</th>\n",
       "      <th>total_wanters</th>\n",
       "      <th>total_wishers</th>\n",
       "      <th>total_comments</th>\n",
       "      <th>total_weights</th>\n",
       "      <th>average_weight</th>\n",
       "    </tr>\n",
       "  </thead>\n",
       "  <tbody>\n",
       "    <tr>\n",
       "      <th>count</th>\n",
       "      <td>1047.000000</td>\n",
       "      <td>1047.000000</td>\n",
       "      <td>1047.000000</td>\n",
       "      <td>1047.000000</td>\n",
       "      <td>1047.000000</td>\n",
       "      <td>1047.000000</td>\n",
       "      <td>1047.000000</td>\n",
       "      <td>1047.000000</td>\n",
       "      <td>1047.000000</td>\n",
       "      <td>1047.000000</td>\n",
       "      <td>1047.000000</td>\n",
       "      <td>1047.000000</td>\n",
       "      <td>1047.000000</td>\n",
       "      <td>1047.000000</td>\n",
       "      <td>1047.000000</td>\n",
       "      <td>1047.000000</td>\n",
       "      <td>1047.000000</td>\n",
       "    </tr>\n",
       "    <tr>\n",
       "      <th>mean</th>\n",
       "      <td>1996.902579</td>\n",
       "      <td>2.113658</td>\n",
       "      <td>5.987584</td>\n",
       "      <td>106.400191</td>\n",
       "      <td>105.994269</td>\n",
       "      <td>106.400191</td>\n",
       "      <td>11.230181</td>\n",
       "      <td>273.581662</td>\n",
       "      <td>6.588986</td>\n",
       "      <td>3.430405</td>\n",
       "      <td>673.339064</td>\n",
       "      <td>17.764088</td>\n",
       "      <td>20.895893</td>\n",
       "      <td>39.375358</td>\n",
       "      <td>87.463228</td>\n",
       "      <td>28.032474</td>\n",
       "      <td>2.309180</td>\n",
       "    </tr>\n",
       "    <tr>\n",
       "      <th>std</th>\n",
       "      <td>8.309044</td>\n",
       "      <td>0.659882</td>\n",
       "      <td>7.497408</td>\n",
       "      <td>95.828616</td>\n",
       "      <td>95.982093</td>\n",
       "      <td>95.828616</td>\n",
       "      <td>1.681506</td>\n",
       "      <td>945.687316</td>\n",
       "      <td>1.510464</td>\n",
       "      <td>2.909067</td>\n",
       "      <td>1907.718083</td>\n",
       "      <td>34.510407</td>\n",
       "      <td>34.512497</td>\n",
       "      <td>81.485946</td>\n",
       "      <td>254.925409</td>\n",
       "      <td>88.658209</td>\n",
       "      <td>1.310242</td>\n",
       "    </tr>\n",
       "    <tr>\n",
       "      <th>min</th>\n",
       "      <td>1961.000000</td>\n",
       "      <td>1.000000</td>\n",
       "      <td>1.000000</td>\n",
       "      <td>0.000000</td>\n",
       "      <td>0.000000</td>\n",
       "      <td>0.000000</td>\n",
       "      <td>4.000000</td>\n",
       "      <td>0.000000</td>\n",
       "      <td>0.000000</td>\n",
       "      <td>0.000000</td>\n",
       "      <td>0.000000</td>\n",
       "      <td>0.000000</td>\n",
       "      <td>0.000000</td>\n",
       "      <td>0.000000</td>\n",
       "      <td>0.000000</td>\n",
       "      <td>0.000000</td>\n",
       "      <td>0.000000</td>\n",
       "    </tr>\n",
       "    <tr>\n",
       "      <th>25%</th>\n",
       "      <td>1991.000000</td>\n",
       "      <td>2.000000</td>\n",
       "      <td>2.000000</td>\n",
       "      <td>45.000000</td>\n",
       "      <td>45.000000</td>\n",
       "      <td>45.000000</td>\n",
       "      <td>10.000000</td>\n",
       "      <td>12.000000</td>\n",
       "      <td>6.322800</td>\n",
       "      <td>0.000000</td>\n",
       "      <td>47.000000</td>\n",
       "      <td>1.000000</td>\n",
       "      <td>2.000000</td>\n",
       "      <td>4.000000</td>\n",
       "      <td>5.000000</td>\n",
       "      <td>1.000000</td>\n",
       "      <td>1.592650</td>\n",
       "    </tr>\n",
       "    <tr>\n",
       "      <th>50%</th>\n",
       "      <td>1999.000000</td>\n",
       "      <td>2.000000</td>\n",
       "      <td>6.000000</td>\n",
       "      <td>90.000000</td>\n",
       "      <td>90.000000</td>\n",
       "      <td>90.000000</td>\n",
       "      <td>12.000000</td>\n",
       "      <td>44.000000</td>\n",
       "      <td>6.868240</td>\n",
       "      <td>5.562850</td>\n",
       "      <td>160.000000</td>\n",
       "      <td>5.000000</td>\n",
       "      <td>8.000000</td>\n",
       "      <td>12.000000</td>\n",
       "      <td>20.000000</td>\n",
       "      <td>6.000000</td>\n",
       "      <td>2.375000</td>\n",
       "    </tr>\n",
       "    <tr>\n",
       "      <th>75%</th>\n",
       "      <td>2004.000000</td>\n",
       "      <td>2.000000</td>\n",
       "      <td>7.000000</td>\n",
       "      <td>120.000000</td>\n",
       "      <td>120.000000</td>\n",
       "      <td>120.000000</td>\n",
       "      <td>12.000000</td>\n",
       "      <td>186.000000</td>\n",
       "      <td>7.363640</td>\n",
       "      <td>5.800120</td>\n",
       "      <td>536.500000</td>\n",
       "      <td>17.000000</td>\n",
       "      <td>21.500000</td>\n",
       "      <td>37.000000</td>\n",
       "      <td>69.500000</td>\n",
       "      <td>20.000000</td>\n",
       "      <td>3.103550</td>\n",
       "    </tr>\n",
       "    <tr>\n",
       "      <th>max</th>\n",
       "      <td>2009.000000</td>\n",
       "      <td>10.000000</td>\n",
       "      <td>100.000000</td>\n",
       "      <td>720.000000</td>\n",
       "      <td>720.000000</td>\n",
       "      <td>720.000000</td>\n",
       "      <td>18.000000</td>\n",
       "      <td>13662.000000</td>\n",
       "      <td>9.000000</td>\n",
       "      <td>8.070120</td>\n",
       "      <td>25316.000000</td>\n",
       "      <td>314.000000</td>\n",
       "      <td>238.000000</td>\n",
       "      <td>856.000000</td>\n",
       "      <td>3551.000000</td>\n",
       "      <td>1201.000000</td>\n",
       "      <td>5.000000</td>\n",
       "    </tr>\n",
       "  </tbody>\n",
       "</table>\n",
       "</div>"
      ],
      "text/plain": [
       "       yearpublished   minplayers   maxplayers  playingtime  minplaytime  \\\n",
       "count    1047.000000  1047.000000  1047.000000  1047.000000  1047.000000   \n",
       "mean     1996.902579     2.113658     5.987584   106.400191   105.994269   \n",
       "std         8.309044     0.659882     7.497408    95.828616    95.982093   \n",
       "min      1961.000000     1.000000     1.000000     0.000000     0.000000   \n",
       "25%      1991.000000     2.000000     2.000000    45.000000    45.000000   \n",
       "50%      1999.000000     2.000000     6.000000    90.000000    90.000000   \n",
       "75%      2004.000000     2.000000     7.000000   120.000000   120.000000   \n",
       "max      2009.000000    10.000000   100.000000   720.000000   720.000000   \n",
       "\n",
       "       maxplaytime       minage   users_rated  average_rating  \\\n",
       "count  1047.000000  1047.000000   1047.000000     1047.000000   \n",
       "mean    106.400191    11.230181    273.581662        6.588986   \n",
       "std      95.828616     1.681506    945.687316        1.510464   \n",
       "min       0.000000     4.000000      0.000000        0.000000   \n",
       "25%      45.000000    10.000000     12.000000        6.322800   \n",
       "50%      90.000000    12.000000     44.000000        6.868240   \n",
       "75%     120.000000    12.000000    186.000000        7.363640   \n",
       "max     720.000000    18.000000  13662.000000        9.000000   \n",
       "\n",
       "       bayes_average_rating  total_owners  total_traders  total_wanters  \\\n",
       "count           1047.000000   1047.000000    1047.000000    1047.000000   \n",
       "mean               3.430405    673.339064      17.764088      20.895893   \n",
       "std                2.909067   1907.718083      34.510407      34.512497   \n",
       "min                0.000000      0.000000       0.000000       0.000000   \n",
       "25%                0.000000     47.000000       1.000000       2.000000   \n",
       "50%                5.562850    160.000000       5.000000       8.000000   \n",
       "75%                5.800120    536.500000      17.000000      21.500000   \n",
       "max                8.070120  25316.000000     314.000000     238.000000   \n",
       "\n",
       "       total_wishers  total_comments  total_weights  average_weight  \n",
       "count    1047.000000     1047.000000    1047.000000     1047.000000  \n",
       "mean       39.375358       87.463228      28.032474        2.309180  \n",
       "std        81.485946      254.925409      88.658209        1.310242  \n",
       "min         0.000000        0.000000       0.000000        0.000000  \n",
       "25%         4.000000        5.000000       1.000000        1.592650  \n",
       "50%        12.000000       20.000000       6.000000        2.375000  \n",
       "75%        37.000000       69.500000      20.000000        3.103550  \n",
       "max       856.000000     3551.000000    1201.000000        5.000000  "
      ]
     },
     "execution_count": 49,
     "metadata": {},
     "output_type": "execute_result"
    }
   ],
   "source": [
    "boardgamesexp.describe()"
   ]
  },
  {
   "cell_type": "markdown",
   "metadata": {},
   "source": [
    "Here the data is unbalanced we have to do non parametric test only. Anyway just checking for shapiro test."
   ]
  },
  {
   "cell_type": "markdown",
   "metadata": {},
   "source": [
    "Performing shapiro and levenes test to confirm assumptions of Normality .\n",
    "### Shapiro Test\n",
    "Ho : Null Hypothesis - boardgame Data is normally distributed, \n",
    "Ha : Alternate Hypothesis - boardgame Data is not normally distributed"
   ]
  },
  {
   "cell_type": "code",
   "execution_count": 67,
   "metadata": {},
   "outputs": [
    {
     "data": {
      "text/plain": [
       "(0.10300081968307495, 0.0)"
      ]
     },
     "execution_count": 67,
     "metadata": {},
     "output_type": "execute_result"
    }
   ],
   "source": [
    "import matplotlib.pyplot as plt\n",
    "from scipy.stats import levene, shapiro, mannwhitneyu\n",
    "shapiro(boardgames.playingtime)"
   ]
  },
  {
   "cell_type": "markdown",
   "metadata": {},
   "source": [
    "p value < 0.05 we reject the null hypothesis i.e. data is normally distributed"
   ]
  },
  {
   "cell_type": "code",
   "execution_count": 51,
   "metadata": {},
   "outputs": [
    {
     "data": {
      "text/plain": [
       "(0.8309653997421265, 7.320831292380178e-32)"
      ]
     },
     "execution_count": 51,
     "metadata": {},
     "output_type": "execute_result"
    }
   ],
   "source": [
    "shapiro(boardgamesexp.playingtime)"
   ]
  },
  {
   "cell_type": "markdown",
   "metadata": {},
   "source": [
    "P-value < 0.05 hence data is not normal, we reject the null hypothesis"
   ]
  },
  {
   "cell_type": "markdown",
   "metadata": {},
   "source": [
    "## Two Sample t test ( independent one )"
   ]
  },
  {
   "cell_type": "markdown",
   "metadata": {},
   "source": [
    "Here samples are not normally distributed, so going forward with non parametric test, within that  Mann Whitney U test for two sample t test (independent one )"
   ]
  },
  {
   "cell_type": "code",
   "execution_count": 53,
   "metadata": {},
   "outputs": [
    {
     "name": "stdout",
     "output_type": "stream",
     "text": [
      "two-sample mannwhitneyu-test p-value= 4.20308334150003e-08\n"
     ]
    }
   ],
   "source": [
    "u, p_value = mannwhitneyu(boardgames.playingtime, boardgamesexp.playingtime)\n",
    "print (\"two-sample mannwhitneyu-test p-value=\", p_value)"
   ]
  },
  {
   "cell_type": "markdown",
   "metadata": {},
   "source": [
    "p value < 0.05, hence null hypothesis is rejected. That is the amount of time gamers spend for each game type is different."
   ]
  },
  {
   "cell_type": "code",
   "execution_count": 54,
   "metadata": {},
   "outputs": [
    {
     "data": {
      "text/plain": [
       "0.0018344281377945728"
      ]
     },
     "execution_count": 54,
     "metadata": {},
     "output_type": "execute_result"
    }
   ],
   "source": [
    "(np.mean(boardgames.playingtime) - np.mean(boardgamesexp.playingtime)) / np.sqrt(((1429-1)*np.var(boardgames.playingtime)+(1047-1)*np.var(boardgamesexp.playingtime)) / 1429+1047-2)"
   ]
  },
  {
   "cell_type": "code",
   "execution_count": 56,
   "metadata": {},
   "outputs": [
    {
     "name": "stdout",
     "output_type": "stream",
     "text": [
      "0.050954253401354885\n"
     ]
    }
   ],
   "source": [
    "from statsmodels.stats.power import ttest_power\n",
    "print(ttest_power(0.0018344281377945728, nobs=2476, alpha=0.05, alternative='two-sided'))"
   ]
  },
  {
   "cell_type": "markdown",
   "metadata": {},
   "source": [
    "Actual power of the test is coming around only 5 % it shows that model is weak."
   ]
  },
  {
   "cell_type": "code",
   "execution_count": 57,
   "metadata": {},
   "outputs": [],
   "source": [
    "#Power of Test conducted to calculate the ideal sample size(n) for 2 data variables\n",
    "import scipy\n",
    "#We shall create a custom function to identify the need for a larger sample size value\n",
    "\n",
    "def sample_power_difftest(d, s, power=0.8, sig=0.05):\n",
    "    z = scipy.stats.norm.isf([sig/2])                   #Inverse Survival Function for calculation\n",
    "    zp = -1 * scipy.stats.norm.isf([power])\n",
    "    n = (2*(s**2)) * ((zp + z)**2) / (d**2)\n",
    "    return int(round(n[0]))\n",
    "\n",
    "\n",
    "# Given d (difference in means), \n",
    "# s (pooled standard deviation), \n",
    "# sig (significance level, typically .05), \n",
    "# power (typically .80)"
   ]
  },
  {
   "cell_type": "code",
   "execution_count": 58,
   "metadata": {},
   "outputs": [],
   "source": [
    "# Let us calculate the necessary data in order to run our power test\n",
    "\n",
    "#Firstly, calculate the means of the 2 variables Current and New\n",
    "mean_boardgame=boardgames.playingtime.mean()\n",
    "mean_boardgamesexp=boardgamesexp.playingtime.mean()\n",
    "\n",
    "#Secondly, calculate the standard deviations of the 2 variables\n",
    "std_boardgame=boardgames.playingtime.std()\n",
    "std_boardgamesexp=boardgamesexp.playingtime.std()"
   ]
  },
  {
   "cell_type": "code",
   "execution_count": 59,
   "metadata": {},
   "outputs": [
    {
     "data": {
      "text/plain": [
       "107.15675297410776"
      ]
     },
     "execution_count": 59,
     "metadata": {},
     "output_type": "execute_result"
    }
   ],
   "source": [
    "mean_boardgame"
   ]
  },
  {
   "cell_type": "code",
   "execution_count": 60,
   "metadata": {},
   "outputs": [
    {
     "data": {
      "text/plain": [
       "106.40019102196753"
      ]
     },
     "execution_count": 60,
     "metadata": {},
     "output_type": "execute_result"
    }
   ],
   "source": [
    "mean_boardgamesexp"
   ]
  },
  {
   "cell_type": "code",
   "execution_count": 61,
   "metadata": {},
   "outputs": [
    {
     "data": {
      "text/plain": [
       "403.1878457949021"
      ]
     },
     "execution_count": 61,
     "metadata": {},
     "output_type": "execute_result"
    }
   ],
   "source": [
    "std_boardgame"
   ]
  },
  {
   "cell_type": "code",
   "execution_count": 62,
   "metadata": {},
   "outputs": [
    {
     "data": {
      "text/plain": [
       "95.8286159393457"
      ]
     },
     "execution_count": 62,
     "metadata": {},
     "output_type": "execute_result"
    }
   ],
   "source": [
    "std_boardgamesexp"
   ]
  },
  {
   "cell_type": "code",
   "execution_count": 63,
   "metadata": {},
   "outputs": [],
   "source": [
    "#Now, let us calculate the difference in their means\n",
    "d = mean_boardgame - mean_boardgamesexp\n",
    "\n",
    "#Next, we calculate the pooled Standard Deviation for the 2 variables using the following formula\n",
    "s = np.sqrt(((std_boardgame**2)+(std_boardgamesexp**2))/2)"
   ]
  },
  {
   "cell_type": "code",
   "execution_count": 64,
   "metadata": {},
   "outputs": [],
   "source": [
    "#Now we calculate the sample size needed for a power of 0.8\n",
    "n = sample_power_difftest(d,s,power=0.8,sig=0.05)"
   ]
  },
  {
   "cell_type": "code",
   "execution_count": 65,
   "metadata": {},
   "outputs": [
    {
     "data": {
      "text/plain": [
       "2355045"
      ]
     },
     "execution_count": 65,
     "metadata": {},
     "output_type": "execute_result"
    }
   ],
   "source": [
    "n"
   ]
  },
  {
   "cell_type": "markdown",
   "metadata": {},
   "source": [
    "We can observe from above result, that in order for the hypothesis test to have a power of confidence of atleast 80%, atleast 2355045 observations are needed.\n",
    "\n",
    "However, our dataset has only 2476 observations, hence a larger sample size would be needed to increase the power of our Model.Power is the probability that the test correctly rejects the Null Hypothesis if the Alternative Hypothesis is true."
   ]
  },
  {
   "cell_type": "markdown",
   "metadata": {},
   "source": [
    "# Conclusion "
   ]
  },
  {
   "cell_type": "markdown",
   "metadata": {},
   "source": [
    "## For two sample t test"
   ]
  },
  {
   "cell_type": "markdown",
   "metadata": {},
   "source": [
    "As the two group data is unbalanced and shapiro test fail for both the group from that it is clear that data is not parametric we have to go for non parametric test.\n",
    "\n",
    "Here problem is to find the wheather playing time for both game type is same or not after doing the Mann Whitney U test it is found that amount of time spend by gamers or players is different.\n",
    "\n",
    "But after checking the power of test results is showing up approx 5 % . It means that only 5 % of probability that rejecting the null hypothesis when it is actually false.It implies that we have a weak model.\n",
    "\n",
    "For getting the power of test 80% minimum number of observation required is 2355045.\n"
   ]
  },
  {
   "cell_type": "code",
   "execution_count": null,
   "metadata": {},
   "outputs": [],
   "source": []
  }
 ],
 "metadata": {
  "kernelspec": {
   "display_name": "Python 3",
   "language": "python",
   "name": "python3"
  },
  "language_info": {
   "codemirror_mode": {
    "name": "ipython",
    "version": 3
   },
   "file_extension": ".py",
   "mimetype": "text/x-python",
   "name": "python",
   "nbconvert_exporter": "python",
   "pygments_lexer": "ipython3",
   "version": "3.6.4"
  }
 },
 "nbformat": 4,
 "nbformat_minor": 1
}
